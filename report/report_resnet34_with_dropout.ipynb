{
  "cells": [
    {
      "cell_type": "markdown",
      "metadata": {
        "id": "Li0bVCTuxc6n"
      },
      "source": [
        "<div align=\"center\">\n",
        "\n",
        "# National Tsing Hua University\n",
        "\n",
        "### Fall 2023\n",
        "\n",
        "#### 11210IPT 553000\n",
        "\n",
        "#### Deep Learning in Biomedical Optical Imaging\n",
        "\n",
        "## Report\n",
        "</div>\n"
      ]
    },
    {
      "cell_type": "code",
      "execution_count": 1,
      "metadata": {
        "id": "mGJcRwdzM7pS"
      },
      "outputs": [],
      "source": [
        "# Download train and val dataset\n",
        "!wget -q -O report_train.npy \"https://www.dropbox.com/scl/fi/30dlbblp7wytcvoy05col/report_train.npy?rlkey=jx100qoz5n1d654v2mi32i9aj&dl=1\"\n",
        "!wget -q -O report_val.npy \"https://www.dropbox.com/scl/fi/oo6g1yqhbjm22wffeddgv/report_val.npy?rlkey=9rqe0rucjhrbzv3x7xbs5047z&dl=1\""
      ]
    },
    {
      "cell_type": "markdown",
      "metadata": {
        "id": "w-1PsC--M7pT"
      },
      "source": [
        "## A. Data Loading and Preprocessing"
      ]
    },
    {
      "cell_type": "code",
      "execution_count": 2,
      "metadata": {
        "colab": {
          "base_uri": "https://localhost:8080/"
        },
        "id": "oScQ0GG6xc6r",
        "outputId": "6de68f1b-232c-4bbe-fbf7-69f252b074cb"
      },
      "outputs": [
        {
          "output_type": "stream",
          "name": "stdout",
          "text": [
            "Shape of x_train: (2550, 3, 150, 150)\n",
            "Shape of x_val: (600, 3, 150, 150)\n"
          ]
        }
      ],
      "source": [
        "import torch\n",
        "from torch.utils.data import DataLoader, TensorDataset, random_split\n",
        "import numpy as np\n",
        "\n",
        "# Load Dataset\n",
        "x_train = np.transpose(np.load('report_train.npy'), (0, 3, 1, 2))\n",
        "x_val = np.transpose(np.load('report_val.npy'), (0, 3, 1, 2))\n",
        "\n",
        "print(f'Shape of x_train: {x_train.shape}')\n",
        "print(f'Shape of x_val: {x_val.shape}')\n",
        "\n",
        "num_classes = 6\n",
        "\n",
        "# Create labels\n",
        "y_train = np.concatenate([np.full(425, i) for i in range(num_classes)]) #425images for each class\n",
        "y_val = np.concatenate([np.full(100, i) for i in range(num_classes)])\n",
        "\n",
        "# Convert to PyTorch tensors\n",
        "x_train = torch.from_numpy(x_train).float()\n",
        "y_train = torch.from_numpy(y_train).long()\n",
        "\n",
        "x_val = torch.from_numpy(x_val).float()\n",
        "y_val = torch.from_numpy(y_val).long()"
      ]
    },
    {
      "cell_type": "code",
      "execution_count": 3,
      "metadata": {
        "id": "O9uSL8jKYoi-"
      },
      "outputs": [],
      "source": [
        "batch_size = 32\n",
        "\n",
        "# Create datasets\n",
        "train_dataset = TensorDataset(x_train , y_train)\n",
        "val_dataset = TensorDataset(x_val, y_val)\n",
        "\n",
        "# Create dataloaders\n",
        "train_loader = DataLoader(train_dataset, batch_size=batch_size, shuffle=True)\n",
        "val_loader = DataLoader(val_dataset, batch_size=batch_size, shuffle=False)\n"
      ]
    },
    {
      "cell_type": "markdown",
      "metadata": {
        "id": "oaLGtT28xc6s"
      },
      "source": [
        "## B. Defining Neural Networks"
      ]
    },
    {
      "cell_type": "code",
      "execution_count": 4,
      "metadata": {
        "id": "1qKfSR8DYojB"
      },
      "outputs": [],
      "source": [
        "import torch.nn as nn\n",
        "import torch.nn.functional as F\n",
        "from torchvision import models"
      ]
    },
    {
      "cell_type": "code",
      "execution_count": 17,
      "metadata": {
        "colab": {
          "base_uri": "https://localhost:8080/"
        },
        "id": "c8gFfbAot_L2",
        "outputId": "17d45b96-8563-4bd5-8a88-e46a48797637"
      },
      "outputs": [
        {
          "output_type": "stream",
          "name": "stdout",
          "text": [
            "MyResNet18(\n",
            "  (conv1): Conv2d(3, 64, kernel_size=(7, 7), stride=(2, 2), padding=(3, 3), bias=False)\n",
            "  (bn1): BatchNorm2d(64, eps=1e-05, momentum=0.1, affine=True, track_running_stats=True)\n",
            "  (relu): ReLU(inplace=True)\n",
            "  (maxpool): MaxPool2d(kernel_size=3, stride=2, padding=1, dilation=1, ceil_mode=False)\n",
            "  (layer1): Sequential(\n",
            "    (0): BasicBlock(\n",
            "      (conv1): Conv2d(64, 64, kernel_size=(3, 3), stride=(1, 1), padding=(1, 1), bias=False)\n",
            "      (bn1): BatchNorm2d(64, eps=1e-05, momentum=0.1, affine=True, track_running_stats=True)\n",
            "      (relu): ReLU(inplace=True)\n",
            "      (conv2): Conv2d(64, 64, kernel_size=(3, 3), stride=(1, 1), padding=(1, 1), bias=False)\n",
            "      (bn2): BatchNorm2d(64, eps=1e-05, momentum=0.1, affine=True, track_running_stats=True)\n",
            "    )\n",
            "    (1): BasicBlock(\n",
            "      (conv1): Conv2d(64, 64, kernel_size=(3, 3), stride=(1, 1), padding=(1, 1), bias=False)\n",
            "      (bn1): BatchNorm2d(64, eps=1e-05, momentum=0.1, affine=True, track_running_stats=True)\n",
            "      (relu): ReLU(inplace=True)\n",
            "      (conv2): Conv2d(64, 64, kernel_size=(3, 3), stride=(1, 1), padding=(1, 1), bias=False)\n",
            "      (bn2): BatchNorm2d(64, eps=1e-05, momentum=0.1, affine=True, track_running_stats=True)\n",
            "    )\n",
            "    (2): BasicBlock(\n",
            "      (conv1): Conv2d(64, 64, kernel_size=(3, 3), stride=(1, 1), padding=(1, 1), bias=False)\n",
            "      (bn1): BatchNorm2d(64, eps=1e-05, momentum=0.1, affine=True, track_running_stats=True)\n",
            "      (relu): ReLU(inplace=True)\n",
            "      (conv2): Conv2d(64, 64, kernel_size=(3, 3), stride=(1, 1), padding=(1, 1), bias=False)\n",
            "      (bn2): BatchNorm2d(64, eps=1e-05, momentum=0.1, affine=True, track_running_stats=True)\n",
            "    )\n",
            "  )\n",
            "  (layer2): Sequential(\n",
            "    (0): BasicBlock(\n",
            "      (conv1): Conv2d(64, 128, kernel_size=(3, 3), stride=(2, 2), padding=(1, 1), bias=False)\n",
            "      (bn1): BatchNorm2d(128, eps=1e-05, momentum=0.1, affine=True, track_running_stats=True)\n",
            "      (relu): ReLU(inplace=True)\n",
            "      (conv2): Conv2d(128, 128, kernel_size=(3, 3), stride=(1, 1), padding=(1, 1), bias=False)\n",
            "      (bn2): BatchNorm2d(128, eps=1e-05, momentum=0.1, affine=True, track_running_stats=True)\n",
            "      (downsample): Sequential(\n",
            "        (0): Conv2d(64, 128, kernel_size=(1, 1), stride=(2, 2), bias=False)\n",
            "        (1): BatchNorm2d(128, eps=1e-05, momentum=0.1, affine=True, track_running_stats=True)\n",
            "      )\n",
            "    )\n",
            "    (1): BasicBlock(\n",
            "      (conv1): Conv2d(128, 128, kernel_size=(3, 3), stride=(1, 1), padding=(1, 1), bias=False)\n",
            "      (bn1): BatchNorm2d(128, eps=1e-05, momentum=0.1, affine=True, track_running_stats=True)\n",
            "      (relu): ReLU(inplace=True)\n",
            "      (conv2): Conv2d(128, 128, kernel_size=(3, 3), stride=(1, 1), padding=(1, 1), bias=False)\n",
            "      (bn2): BatchNorm2d(128, eps=1e-05, momentum=0.1, affine=True, track_running_stats=True)\n",
            "    )\n",
            "    (2): BasicBlock(\n",
            "      (conv1): Conv2d(128, 128, kernel_size=(3, 3), stride=(1, 1), padding=(1, 1), bias=False)\n",
            "      (bn1): BatchNorm2d(128, eps=1e-05, momentum=0.1, affine=True, track_running_stats=True)\n",
            "      (relu): ReLU(inplace=True)\n",
            "      (conv2): Conv2d(128, 128, kernel_size=(3, 3), stride=(1, 1), padding=(1, 1), bias=False)\n",
            "      (bn2): BatchNorm2d(128, eps=1e-05, momentum=0.1, affine=True, track_running_stats=True)\n",
            "    )\n",
            "    (3): BasicBlock(\n",
            "      (conv1): Conv2d(128, 128, kernel_size=(3, 3), stride=(1, 1), padding=(1, 1), bias=False)\n",
            "      (bn1): BatchNorm2d(128, eps=1e-05, momentum=0.1, affine=True, track_running_stats=True)\n",
            "      (relu): ReLU(inplace=True)\n",
            "      (conv2): Conv2d(128, 128, kernel_size=(3, 3), stride=(1, 1), padding=(1, 1), bias=False)\n",
            "      (bn2): BatchNorm2d(128, eps=1e-05, momentum=0.1, affine=True, track_running_stats=True)\n",
            "    )\n",
            "  )\n",
            "  (layer3): Sequential(\n",
            "    (0): BasicBlock(\n",
            "      (conv1): Conv2d(128, 256, kernel_size=(3, 3), stride=(2, 2), padding=(1, 1), bias=False)\n",
            "      (bn1): BatchNorm2d(256, eps=1e-05, momentum=0.1, affine=True, track_running_stats=True)\n",
            "      (relu): ReLU(inplace=True)\n",
            "      (conv2): Conv2d(256, 256, kernel_size=(3, 3), stride=(1, 1), padding=(1, 1), bias=False)\n",
            "      (bn2): BatchNorm2d(256, eps=1e-05, momentum=0.1, affine=True, track_running_stats=True)\n",
            "      (downsample): Sequential(\n",
            "        (0): Conv2d(128, 256, kernel_size=(1, 1), stride=(2, 2), bias=False)\n",
            "        (1): BatchNorm2d(256, eps=1e-05, momentum=0.1, affine=True, track_running_stats=True)\n",
            "      )\n",
            "    )\n",
            "    (1): BasicBlock(\n",
            "      (conv1): Conv2d(256, 256, kernel_size=(3, 3), stride=(1, 1), padding=(1, 1), bias=False)\n",
            "      (bn1): BatchNorm2d(256, eps=1e-05, momentum=0.1, affine=True, track_running_stats=True)\n",
            "      (relu): ReLU(inplace=True)\n",
            "      (conv2): Conv2d(256, 256, kernel_size=(3, 3), stride=(1, 1), padding=(1, 1), bias=False)\n",
            "      (bn2): BatchNorm2d(256, eps=1e-05, momentum=0.1, affine=True, track_running_stats=True)\n",
            "    )\n",
            "    (2): BasicBlock(\n",
            "      (conv1): Conv2d(256, 256, kernel_size=(3, 3), stride=(1, 1), padding=(1, 1), bias=False)\n",
            "      (bn1): BatchNorm2d(256, eps=1e-05, momentum=0.1, affine=True, track_running_stats=True)\n",
            "      (relu): ReLU(inplace=True)\n",
            "      (conv2): Conv2d(256, 256, kernel_size=(3, 3), stride=(1, 1), padding=(1, 1), bias=False)\n",
            "      (bn2): BatchNorm2d(256, eps=1e-05, momentum=0.1, affine=True, track_running_stats=True)\n",
            "    )\n",
            "    (3): BasicBlock(\n",
            "      (conv1): Conv2d(256, 256, kernel_size=(3, 3), stride=(1, 1), padding=(1, 1), bias=False)\n",
            "      (bn1): BatchNorm2d(256, eps=1e-05, momentum=0.1, affine=True, track_running_stats=True)\n",
            "      (relu): ReLU(inplace=True)\n",
            "      (conv2): Conv2d(256, 256, kernel_size=(3, 3), stride=(1, 1), padding=(1, 1), bias=False)\n",
            "      (bn2): BatchNorm2d(256, eps=1e-05, momentum=0.1, affine=True, track_running_stats=True)\n",
            "    )\n",
            "    (4): BasicBlock(\n",
            "      (conv1): Conv2d(256, 256, kernel_size=(3, 3), stride=(1, 1), padding=(1, 1), bias=False)\n",
            "      (bn1): BatchNorm2d(256, eps=1e-05, momentum=0.1, affine=True, track_running_stats=True)\n",
            "      (relu): ReLU(inplace=True)\n",
            "      (conv2): Conv2d(256, 256, kernel_size=(3, 3), stride=(1, 1), padding=(1, 1), bias=False)\n",
            "      (bn2): BatchNorm2d(256, eps=1e-05, momentum=0.1, affine=True, track_running_stats=True)\n",
            "    )\n",
            "    (5): BasicBlock(\n",
            "      (conv1): Conv2d(256, 256, kernel_size=(3, 3), stride=(1, 1), padding=(1, 1), bias=False)\n",
            "      (bn1): BatchNorm2d(256, eps=1e-05, momentum=0.1, affine=True, track_running_stats=True)\n",
            "      (relu): ReLU(inplace=True)\n",
            "      (conv2): Conv2d(256, 256, kernel_size=(3, 3), stride=(1, 1), padding=(1, 1), bias=False)\n",
            "      (bn2): BatchNorm2d(256, eps=1e-05, momentum=0.1, affine=True, track_running_stats=True)\n",
            "    )\n",
            "  )\n",
            "  (layer4): Sequential(\n",
            "    (0): BasicBlock(\n",
            "      (conv1): Conv2d(256, 512, kernel_size=(3, 3), stride=(2, 2), padding=(1, 1), bias=False)\n",
            "      (bn1): BatchNorm2d(512, eps=1e-05, momentum=0.1, affine=True, track_running_stats=True)\n",
            "      (relu): ReLU(inplace=True)\n",
            "      (conv2): Conv2d(512, 512, kernel_size=(3, 3), stride=(1, 1), padding=(1, 1), bias=False)\n",
            "      (bn2): BatchNorm2d(512, eps=1e-05, momentum=0.1, affine=True, track_running_stats=True)\n",
            "      (downsample): Sequential(\n",
            "        (0): Conv2d(256, 512, kernel_size=(1, 1), stride=(2, 2), bias=False)\n",
            "        (1): BatchNorm2d(512, eps=1e-05, momentum=0.1, affine=True, track_running_stats=True)\n",
            "      )\n",
            "    )\n",
            "    (1): BasicBlock(\n",
            "      (conv1): Conv2d(512, 512, kernel_size=(3, 3), stride=(1, 1), padding=(1, 1), bias=False)\n",
            "      (bn1): BatchNorm2d(512, eps=1e-05, momentum=0.1, affine=True, track_running_stats=True)\n",
            "      (relu): ReLU(inplace=True)\n",
            "      (conv2): Conv2d(512, 512, kernel_size=(3, 3), stride=(1, 1), padding=(1, 1), bias=False)\n",
            "      (bn2): BatchNorm2d(512, eps=1e-05, momentum=0.1, affine=True, track_running_stats=True)\n",
            "    )\n",
            "    (2): BasicBlock(\n",
            "      (conv1): Conv2d(512, 512, kernel_size=(3, 3), stride=(1, 1), padding=(1, 1), bias=False)\n",
            "      (bn1): BatchNorm2d(512, eps=1e-05, momentum=0.1, affine=True, track_running_stats=True)\n",
            "      (relu): ReLU(inplace=True)\n",
            "      (conv2): Conv2d(512, 512, kernel_size=(3, 3), stride=(1, 1), padding=(1, 1), bias=False)\n",
            "      (bn2): BatchNorm2d(512, eps=1e-05, momentum=0.1, affine=True, track_running_stats=True)\n",
            "    )\n",
            "  )\n",
            "  (avgpool): AdaptiveAvgPool2d(output_size=(1, 1))\n",
            "  (fc): Linear(in_features=512, out_features=6, bias=True)\n",
            "  (dropout): Dropout(p=0.5, inplace=False)\n",
            ")\n"
          ]
        }
      ],
      "source": [
        "from torchvision.ops.deform_conv import DeformConv2d\n",
        "import torchvision.models as models\n",
        "from torchvision.models.resnet import ResNet, BasicBlock\n",
        "from torchvision import transforms\n",
        "\n",
        "poolsize=1\n",
        "\n",
        "class MyResNet18(ResNet):\n",
        "    def __init__(self):\n",
        "        super(MyResNet18, self).__init__(BasicBlock, [3,4,6,3])\n",
        "        self.dropout = nn.Dropout(0.5)\n",
        "\n",
        "    def forward(self, x):\n",
        "        # change forward here\n",
        "        x = transforms.functional.crop( x, 0, 0, height=128, width=128)\n",
        "        #x = F.interpolate(x, scale_factor=0.25) #512\n",
        "        #x = F.interpolate(x, scale_factor=4) #\n",
        "        x = self.conv1(x)  #64*64\n",
        "        x = self.bn1(x)\n",
        "        x = self.relu(x)\n",
        "        x = self.maxpool(x) #64*32\n",
        "        x = self.layer1(x)  #64*32\n",
        "        x = self.layer2(x)  #128*16\n",
        "        x = self.layer3(x)  #256*8\n",
        "        x = self.layer4(x)  #512*4\n",
        "        x = self.avgpool(x)\n",
        "        x = torch.flatten(x, start_dim=1)\n",
        "        x = self.dropout(x)\n",
        "        x = self.fc(x)\n",
        "\n",
        "        return x\n",
        "\n",
        "model = MyResNet18()\n",
        "model1 = models.resnet34(weights='IMAGENET1K_V1')\n",
        "model.conv1 = model1.conv1\n",
        "model.layer1=model1.layer1\n",
        "model.layer2=model1.layer2\n",
        "model.layer3=model1.layer3\n",
        "model.layer4=model1.layer4\n",
        "\n",
        "for param in model.parameters():\n",
        "    param.requires_grad = True\n",
        "#False: frozen except for the last ‘fc’ layer, which you have modified.\n",
        "\n",
        "model.avgpool = nn.AdaptiveAvgPool2d(output_size=(poolsize, poolsize))  #8*8 -> poolsize*poolsize\n",
        "num_ftrs = model.fc.in_features * poolsize * poolsize\n",
        "model.fc = nn.Linear(num_ftrs, num_classes)\n",
        "\n",
        "model.cuda()\n",
        "print(model)"
      ]
    },
    {
      "cell_type": "markdown",
      "metadata": {
        "id": "nvLTU-IfZLqn"
      },
      "source": [
        "## C. Training the Neural Network"
      ]
    },
    {
      "cell_type": "code",
      "execution_count": 18,
      "metadata": {
        "colab": {
          "base_uri": "https://localhost:8080/",
          "height": 1000,
          "referenced_widgets": [
            "787c8d098dd24255a69bf2ec1763ea87",
            "ae37792e1f0a4bab85b68d5f2745127c",
            "0c5908e167d34b549d657b7c52a8c228",
            "c28d01d0c05e42fb91b8d6bfedcf4ae3",
            "eb9ec1d4b2584b42b2e6b1f744fcacf2",
            "89ff6a098abc476fb2166dd0f3ddd67a",
            "3e5ac837fcb648f18a06cbd8db6276f4",
            "3d6d8b6367eb446bb90652e846559c61",
            "735ac122d29b4ffcb26e536fa26d02a0",
            "eb8aa00280114505af942f978d1d3087",
            "b9729d2a7ab344adb0641b4c0be5e2d4"
          ]
        },
        "id": "45ol4lpVxc6t",
        "outputId": "97e6bd33-90f3-4365-f542-83700e54b763"
      },
      "outputs": [
        {
          "output_type": "display_data",
          "data": {
            "text/plain": [
              "  0%|          | 0/100 [00:00<?, ?it/s]"
            ],
            "application/vnd.jupyter.widget-view+json": {
              "version_major": 2,
              "version_minor": 0,
              "model_id": "787c8d098dd24255a69bf2ec1763ea87"
            }
          },
          "metadata": {}
        },
        {
          "output_type": "stream",
          "name": "stdout",
          "text": [
            "Epoch 1/100, Train loss: 0.8590, Train acc: 71.53%, Val loss: 1.7550, Val acc: 66.17%, Best Val loss: 1.7550 Best Val acc: 66.17%\n",
            "Epoch 2/100, Train loss: 0.5209, Train acc: 81.49%, Val loss: 0.5325, Val acc: 81.33%, Best Val loss: 0.5325 Best Val acc: 81.33%\n",
            "Epoch 3/100, Train loss: 0.4849, Train acc: 82.35%, Val loss: 0.4744, Val acc: 80.50%, Best Val loss: 0.4744 Best Val acc: 81.33%\n",
            "Epoch 4/100, Train loss: 0.3828, Train acc: 87.96%, Val loss: 0.8687, Val acc: 73.33%, Best Val loss: 0.4744 Best Val acc: 81.33%\n",
            "Epoch 5/100, Train loss: 0.3533, Train acc: 88.43%, Val loss: 0.3561, Val acc: 86.83%, Best Val loss: 0.3561 Best Val acc: 86.83%\n",
            "Epoch 6/100, Train loss: 0.3128, Train acc: 89.92%, Val loss: 0.6237, Val acc: 80.17%, Best Val loss: 0.3561 Best Val acc: 86.83%\n",
            "Epoch 7/100, Train loss: 0.2580, Train acc: 90.98%, Val loss: 0.4077, Val acc: 85.83%, Best Val loss: 0.3561 Best Val acc: 86.83%\n",
            "Epoch 8/100, Train loss: 0.2329, Train acc: 92.20%, Val loss: 0.4249, Val acc: 84.17%, Best Val loss: 0.3561 Best Val acc: 86.83%\n",
            "Epoch 9/100, Train loss: 0.2733, Train acc: 90.63%, Val loss: 0.4851, Val acc: 84.17%, Best Val loss: 0.3561 Best Val acc: 86.83%\n",
            "Epoch 10/100, Train loss: 0.1825, Train acc: 93.76%, Val loss: 1.1431, Val acc: 69.17%, Best Val loss: 0.3561 Best Val acc: 86.83%\n",
            "Epoch 11/100, Train loss: 0.1280, Train acc: 95.80%, Val loss: 0.4471, Val acc: 84.67%, Best Val loss: 0.3561 Best Val acc: 86.83%\n",
            "Epoch 12/100, Train loss: 0.1126, Train acc: 96.16%, Val loss: 0.6127, Val acc: 81.67%, Best Val loss: 0.3561 Best Val acc: 86.83%\n",
            "Epoch 13/100, Train loss: 0.1113, Train acc: 96.55%, Val loss: 0.5951, Val acc: 83.83%, Best Val loss: 0.3561 Best Val acc: 86.83%\n",
            "Epoch 14/100, Train loss: 0.1191, Train acc: 96.24%, Val loss: 0.3688, Val acc: 88.17%, Best Val loss: 0.3561 Best Val acc: 88.17%\n",
            "Epoch 15/100, Train loss: 0.1340, Train acc: 95.96%, Val loss: 0.8885, Val acc: 77.17%, Best Val loss: 0.3561 Best Val acc: 88.17%\n",
            "Epoch 16/100, Train loss: 0.1332, Train acc: 95.57%, Val loss: 0.4763, Val acc: 84.67%, Best Val loss: 0.3561 Best Val acc: 88.17%\n",
            "Epoch 17/100, Train loss: 0.0691, Train acc: 97.53%, Val loss: 0.8184, Val acc: 81.50%, Best Val loss: 0.3561 Best Val acc: 88.17%\n",
            "Epoch 18/100, Train loss: 0.0597, Train acc: 98.08%, Val loss: 0.4769, Val acc: 87.00%, Best Val loss: 0.3561 Best Val acc: 88.17%\n",
            "Epoch 19/100, Train loss: 0.0480, Train acc: 98.27%, Val loss: 0.6439, Val acc: 85.17%, Best Val loss: 0.3561 Best Val acc: 88.17%\n",
            "Epoch 20/100, Train loss: 0.0611, Train acc: 98.27%, Val loss: 0.5495, Val acc: 85.50%, Best Val loss: 0.3561 Best Val acc: 88.17%\n",
            "Epoch 21/100, Train loss: 0.0542, Train acc: 98.08%, Val loss: 0.7390, Val acc: 82.00%, Best Val loss: 0.3561 Best Val acc: 88.17%\n",
            "Epoch 22/100, Train loss: 0.0427, Train acc: 98.59%, Val loss: 0.6469, Val acc: 85.00%, Best Val loss: 0.3561 Best Val acc: 88.17%\n",
            "Epoch 23/100, Train loss: 0.0962, Train acc: 96.90%, Val loss: 1.7019, Val acc: 68.50%, Best Val loss: 0.3561 Best Val acc: 88.17%\n",
            "Epoch 24/100, Train loss: 0.0518, Train acc: 98.24%, Val loss: 0.5804, Val acc: 85.33%, Best Val loss: 0.3561 Best Val acc: 88.17%\n",
            "Epoch 25/100, Train loss: 0.0611, Train acc: 98.94%, Val loss: 0.6035, Val acc: 81.50%, Best Val loss: 0.3561 Best Val acc: 88.17%\n",
            "Epoch 26/100, Train loss: 0.1442, Train acc: 95.06%, Val loss: 0.5602, Val acc: 86.33%, Best Val loss: 0.3561 Best Val acc: 88.17%\n",
            "Epoch 27/100, Train loss: 0.0532, Train acc: 98.31%, Val loss: 0.5093, Val acc: 86.33%, Best Val loss: 0.3561 Best Val acc: 88.17%\n",
            "Epoch 28/100, Train loss: 0.0462, Train acc: 98.43%, Val loss: 0.7143, Val acc: 81.67%, Best Val loss: 0.3561 Best Val acc: 88.17%\n",
            "Epoch 29/100, Train loss: 0.0727, Train acc: 97.88%, Val loss: 0.6020, Val acc: 82.67%, Best Val loss: 0.3561 Best Val acc: 88.17%\n",
            "Epoch 30/100, Train loss: 0.0290, Train acc: 99.02%, Val loss: 0.5837, Val acc: 86.50%, Best Val loss: 0.3561 Best Val acc: 88.17%\n",
            "Epoch 31/100, Train loss: 0.0183, Train acc: 99.41%, Val loss: 0.5561, Val acc: 86.33%, Best Val loss: 0.3561 Best Val acc: 88.17%\n",
            "Epoch 32/100, Train loss: 0.0105, Train acc: 99.65%, Val loss: 0.6326, Val acc: 85.67%, Best Val loss: 0.3561 Best Val acc: 88.17%\n",
            "Epoch 33/100, Train loss: 0.0247, Train acc: 99.33%, Val loss: 1.5281, Val acc: 74.17%, Best Val loss: 0.3561 Best Val acc: 88.17%\n",
            "Epoch 34/100, Train loss: 0.0481, Train acc: 98.55%, Val loss: 0.7442, Val acc: 82.67%, Best Val loss: 0.3561 Best Val acc: 88.17%\n",
            "Epoch 35/100, Train loss: 0.0421, Train acc: 98.67%, Val loss: 0.3932, Val acc: 88.50%, Best Val loss: 0.3561 Best Val acc: 88.50%\n",
            "Epoch 36/100, Train loss: 0.0345, Train acc: 98.90%, Val loss: 0.5033, Val acc: 87.67%, Best Val loss: 0.3561 Best Val acc: 88.50%\n",
            "Epoch 37/100, Train loss: 0.0414, Train acc: 98.39%, Val loss: 0.8047, Val acc: 82.33%, Best Val loss: 0.3561 Best Val acc: 88.50%\n",
            "Epoch 38/100, Train loss: 0.0256, Train acc: 99.06%, Val loss: 0.5603, Val acc: 85.17%, Best Val loss: 0.3561 Best Val acc: 88.50%\n",
            "Epoch 39/100, Train loss: 0.0202, Train acc: 99.33%, Val loss: 0.5614, Val acc: 84.00%, Best Val loss: 0.3561 Best Val acc: 88.50%\n",
            "Epoch 40/100, Train loss: 0.0199, Train acc: 99.37%, Val loss: 0.7764, Val acc: 83.67%, Best Val loss: 0.3561 Best Val acc: 88.50%\n",
            "Epoch 41/100, Train loss: 0.0162, Train acc: 99.29%, Val loss: 0.6361, Val acc: 86.00%, Best Val loss: 0.3561 Best Val acc: 88.50%\n",
            "Epoch 42/100, Train loss: 0.0337, Train acc: 99.22%, Val loss: 0.9478, Val acc: 83.83%, Best Val loss: 0.3561 Best Val acc: 88.50%\n",
            "Epoch 43/100, Train loss: 0.0661, Train acc: 98.08%, Val loss: 0.7780, Val acc: 79.17%, Best Val loss: 0.3561 Best Val acc: 88.50%\n",
            "Epoch 44/100, Train loss: 0.0325, Train acc: 98.78%, Val loss: 0.6958, Val acc: 84.00%, Best Val loss: 0.3561 Best Val acc: 88.50%\n",
            "Epoch 45/100, Train loss: 0.0240, Train acc: 99.06%, Val loss: 0.6579, Val acc: 83.17%, Best Val loss: 0.3561 Best Val acc: 88.50%\n",
            "Epoch 46/100, Train loss: 0.0915, Train acc: 97.29%, Val loss: 1.5723, Val acc: 73.33%, Best Val loss: 0.3561 Best Val acc: 88.50%\n",
            "Epoch 47/100, Train loss: 0.1120, Train acc: 96.67%, Val loss: 1.5182, Val acc: 73.83%, Best Val loss: 0.3561 Best Val acc: 88.50%\n",
            "Epoch 48/100, Train loss: 0.0501, Train acc: 98.55%, Val loss: 1.4531, Val acc: 75.67%, Best Val loss: 0.3561 Best Val acc: 88.50%\n",
            "Epoch 49/100, Train loss: 0.0434, Train acc: 98.78%, Val loss: 0.7459, Val acc: 81.83%, Best Val loss: 0.3561 Best Val acc: 88.50%\n",
            "Epoch 50/100, Train loss: 0.0126, Train acc: 99.53%, Val loss: 0.5404, Val acc: 85.83%, Best Val loss: 0.3561 Best Val acc: 88.50%\n",
            "Epoch 51/100, Train loss: 0.0210, Train acc: 99.45%, Val loss: 0.6422, Val acc: 84.33%, Best Val loss: 0.3561 Best Val acc: 88.50%\n",
            "Epoch 52/100, Train loss: 0.0372, Train acc: 98.98%, Val loss: 1.1761, Val acc: 78.67%, Best Val loss: 0.3561 Best Val acc: 88.50%\n",
            "Epoch 53/100, Train loss: 0.0403, Train acc: 98.94%, Val loss: 0.6448, Val acc: 83.83%, Best Val loss: 0.3561 Best Val acc: 88.50%\n",
            "Epoch 54/100, Train loss: 0.0081, Train acc: 99.65%, Val loss: 0.5978, Val acc: 85.00%, Best Val loss: 0.3561 Best Val acc: 88.50%\n",
            "Epoch 55/100, Train loss: 0.0377, Train acc: 98.98%, Val loss: 0.8593, Val acc: 78.67%, Best Val loss: 0.3561 Best Val acc: 88.50%\n",
            "Epoch 56/100, Train loss: 0.0289, Train acc: 99.14%, Val loss: 0.8472, Val acc: 80.83%, Best Val loss: 0.3561 Best Val acc: 88.50%\n",
            "Epoch 57/100, Train loss: 0.0471, Train acc: 98.59%, Val loss: 0.8891, Val acc: 81.50%, Best Val loss: 0.3561 Best Val acc: 88.50%\n",
            "Epoch 58/100, Train loss: 0.0101, Train acc: 99.73%, Val loss: 0.6298, Val acc: 85.00%, Best Val loss: 0.3561 Best Val acc: 88.50%\n",
            "Epoch 59/100, Train loss: 0.0054, Train acc: 99.84%, Val loss: 0.6581, Val acc: 85.67%, Best Val loss: 0.3561 Best Val acc: 88.50%\n",
            "Epoch 60/100, Train loss: 0.0050, Train acc: 99.88%, Val loss: 0.5933, Val acc: 84.83%, Best Val loss: 0.3561 Best Val acc: 88.50%\n",
            "Epoch 61/100, Train loss: 0.0153, Train acc: 99.53%, Val loss: 0.6403, Val acc: 86.00%, Best Val loss: 0.3561 Best Val acc: 88.50%\n",
            "Epoch 62/100, Train loss: 0.0432, Train acc: 98.78%, Val loss: 1.0299, Val acc: 78.17%, Best Val loss: 0.3561 Best Val acc: 88.50%\n",
            "Epoch 63/100, Train loss: 0.0263, Train acc: 99.10%, Val loss: 0.6743, Val acc: 84.83%, Best Val loss: 0.3561 Best Val acc: 88.50%\n",
            "Epoch 64/100, Train loss: 0.0411, Train acc: 98.90%, Val loss: 0.5337, Val acc: 85.17%, Best Val loss: 0.3561 Best Val acc: 88.50%\n",
            "Epoch 65/100, Train loss: 0.0205, Train acc: 99.25%, Val loss: 0.6090, Val acc: 85.17%, Best Val loss: 0.3561 Best Val acc: 88.50%\n",
            "Epoch 66/100, Train loss: 0.0082, Train acc: 99.73%, Val loss: 0.8376, Val acc: 82.33%, Best Val loss: 0.3561 Best Val acc: 88.50%\n",
            "Epoch 67/100, Train loss: 0.0754, Train acc: 98.47%, Val loss: 1.0292, Val acc: 80.83%, Best Val loss: 0.3561 Best Val acc: 88.50%\n",
            "Epoch 68/100, Train loss: 0.0755, Train acc: 98.27%, Val loss: 0.9679, Val acc: 79.83%, Best Val loss: 0.3561 Best Val acc: 88.50%\n",
            "Epoch 69/100, Train loss: 0.0679, Train acc: 98.08%, Val loss: 0.8288, Val acc: 80.67%, Best Val loss: 0.3561 Best Val acc: 88.50%\n",
            "Epoch 70/100, Train loss: 0.0146, Train acc: 99.53%, Val loss: 0.5627, Val acc: 87.00%, Best Val loss: 0.3561 Best Val acc: 88.50%\n",
            "Epoch 71/100, Train loss: 0.0066, Train acc: 99.80%, Val loss: 0.8397, Val acc: 84.00%, Best Val loss: 0.3561 Best Val acc: 88.50%\n",
            "Epoch 72/100, Train loss: 0.0778, Train acc: 97.80%, Val loss: 1.0677, Val acc: 78.67%, Best Val loss: 0.3561 Best Val acc: 88.50%\n",
            "Epoch 73/100, Train loss: 0.0458, Train acc: 98.67%, Val loss: 0.6815, Val acc: 83.33%, Best Val loss: 0.3561 Best Val acc: 88.50%\n",
            "Epoch 74/100, Train loss: 0.0100, Train acc: 99.69%, Val loss: 0.5684, Val acc: 85.83%, Best Val loss: 0.3561 Best Val acc: 88.50%\n",
            "Epoch 75/100, Train loss: 0.0046, Train acc: 99.88%, Val loss: 0.6299, Val acc: 86.83%, Best Val loss: 0.3561 Best Val acc: 88.50%\n",
            "Epoch 76/100, Train loss: 0.0013, Train acc: 100.00%, Val loss: 0.6342, Val acc: 85.83%, Best Val loss: 0.3561 Best Val acc: 88.50%\n",
            "Epoch 77/100, Train loss: 0.0033, Train acc: 99.88%, Val loss: 0.5999, Val acc: 86.50%, Best Val loss: 0.3561 Best Val acc: 88.50%\n",
            "Epoch 78/100, Train loss: 0.0119, Train acc: 99.53%, Val loss: 0.8310, Val acc: 81.50%, Best Val loss: 0.3561 Best Val acc: 88.50%\n",
            "Epoch 79/100, Train loss: 0.0200, Train acc: 99.41%, Val loss: 0.9821, Val acc: 80.83%, Best Val loss: 0.3561 Best Val acc: 88.50%\n",
            "Epoch 80/100, Train loss: 0.0063, Train acc: 99.84%, Val loss: 0.7970, Val acc: 83.50%, Best Val loss: 0.3561 Best Val acc: 88.50%\n",
            "Epoch 81/100, Train loss: 0.0047, Train acc: 99.84%, Val loss: 0.6958, Val acc: 85.83%, Best Val loss: 0.3561 Best Val acc: 88.50%\n",
            "Epoch 82/100, Train loss: 0.0131, Train acc: 99.49%, Val loss: 1.4761, Val acc: 79.33%, Best Val loss: 0.3561 Best Val acc: 88.50%\n",
            "Epoch 83/100, Train loss: 0.0396, Train acc: 98.94%, Val loss: 1.5817, Val acc: 79.17%, Best Val loss: 0.3561 Best Val acc: 88.50%\n",
            "Epoch 84/100, Train loss: 0.0628, Train acc: 98.35%, Val loss: 1.3563, Val acc: 78.00%, Best Val loss: 0.3561 Best Val acc: 88.50%\n",
            "Epoch 85/100, Train loss: 0.0892, Train acc: 97.29%, Val loss: 1.3144, Val acc: 80.83%, Best Val loss: 0.3561 Best Val acc: 88.50%\n",
            "Epoch 86/100, Train loss: 0.0511, Train acc: 98.51%, Val loss: 1.4891, Val acc: 77.50%, Best Val loss: 0.3561 Best Val acc: 88.50%\n",
            "Epoch 87/100, Train loss: 0.0370, Train acc: 98.86%, Val loss: 0.8858, Val acc: 82.67%, Best Val loss: 0.3561 Best Val acc: 88.50%\n",
            "Epoch 88/100, Train loss: 0.0148, Train acc: 99.53%, Val loss: 1.6133, Val acc: 79.33%, Best Val loss: 0.3561 Best Val acc: 88.50%\n",
            "Epoch 89/100, Train loss: 0.0079, Train acc: 99.76%, Val loss: 0.7009, Val acc: 85.50%, Best Val loss: 0.3561 Best Val acc: 88.50%\n",
            "Epoch 90/100, Train loss: 0.0052, Train acc: 99.80%, Val loss: 0.6295, Val acc: 85.33%, Best Val loss: 0.3561 Best Val acc: 88.50%\n",
            "Epoch 91/100, Train loss: 0.0068, Train acc: 99.65%, Val loss: 0.7708, Val acc: 84.33%, Best Val loss: 0.3561 Best Val acc: 88.50%\n",
            "Epoch 92/100, Train loss: 0.0035, Train acc: 99.84%, Val loss: 0.7012, Val acc: 86.00%, Best Val loss: 0.3561 Best Val acc: 88.50%\n",
            "Epoch 93/100, Train loss: 0.0037, Train acc: 99.84%, Val loss: 0.7238, Val acc: 84.50%, Best Val loss: 0.3561 Best Val acc: 88.50%\n",
            "Epoch 94/100, Train loss: 0.0055, Train acc: 99.84%, Val loss: 0.8204, Val acc: 85.00%, Best Val loss: 0.3561 Best Val acc: 88.50%\n",
            "Epoch 95/100, Train loss: 0.0098, Train acc: 99.73%, Val loss: 0.6949, Val acc: 83.50%, Best Val loss: 0.3561 Best Val acc: 88.50%\n",
            "Epoch 96/100, Train loss: 0.0454, Train acc: 98.39%, Val loss: 2.0933, Val acc: 72.50%, Best Val loss: 0.3561 Best Val acc: 88.50%\n",
            "Epoch 97/100, Train loss: 0.0442, Train acc: 98.75%, Val loss: 0.8363, Val acc: 81.83%, Best Val loss: 0.3561 Best Val acc: 88.50%\n",
            "Epoch 98/100, Train loss: 0.0120, Train acc: 99.57%, Val loss: 0.7263, Val acc: 84.17%, Best Val loss: 0.3561 Best Val acc: 88.50%\n",
            "Epoch 99/100, Train loss: 0.0190, Train acc: 99.41%, Val loss: 0.7077, Val acc: 83.83%, Best Val loss: 0.3561 Best Val acc: 88.50%\n",
            "Epoch 100/100, Train loss: 0.0089, Train acc: 99.73%, Val loss: 0.8630, Val acc: 80.83%, Best Val loss: 0.3561 Best Val acc: 88.50%\n",
            "512.7104842662811 37.59539866447449\n"
          ]
        }
      ],
      "source": [
        "import torch.optim as optim\n",
        "from torch.optim.lr_scheduler import CosineAnnealingLR, StepLR\n",
        "from torch.optim.lr_scheduler import CosineAnnealingWarmRestarts\n",
        "from tqdm.auto import tqdm\n",
        "import time\n",
        "\n",
        "train_losses = []\n",
        "val_losses = []\n",
        "test_losses = []\n",
        "train_accuracies = []\n",
        "val_accuracies = []\n",
        "test_accuracies = []\n",
        "train_time=0\n",
        "valid_time=0\n",
        "\n",
        "epochs = 100\n",
        "\n",
        "best_avg_loss = 100000000000\n",
        "best_val_loss = float('inf')\n",
        "best_val_acc = -1\n",
        "\n",
        "criterion = nn.CrossEntropyLoss(reduction='mean')\n",
        "optimizer = optim.Adam(model.parameters(), lr=1e-3)\n",
        "#lr_scheduler = CosineAnnealingWarmRestarts(optimizer, T_0=len(train_loader), eta_min=0)\n",
        "lr_scheduler = CosineAnnealingLR(optimizer, T_max=len(train_loader)*epochs, eta_min=0)\n",
        "\n",
        "for epoch in tqdm(range(epochs)):\n",
        "    # Training\n",
        "    model.train()\n",
        "    total_loss = 0.0\n",
        "    train_correct = 0\n",
        "    total_train_samples = 0\n",
        "    start = time.time()\n",
        "\n",
        "    for images, labels in train_loader:\n",
        "        images = images.cuda()\n",
        "        labels = labels.cuda()\n",
        "        optimizer.zero_grad()\n",
        "        outputs = model(images)\n",
        "        loss = criterion(outputs, labels)\n",
        "        loss.backward()\n",
        "\n",
        "\n",
        "        optimizer.step()\n",
        "        total_loss += loss.item()\n",
        "        train_predicted = outputs.argmax(-1)\n",
        "        train_correct += (train_predicted.float() == labels).sum().item()\n",
        "        total_train_samples += labels.size(0)\n",
        "\n",
        "    avg_train_loss = total_loss / len(train_loader)\n",
        "    train_accuracy = 100. * train_correct / total_train_samples\n",
        "    train_time+=time.time()-start\n",
        "\n",
        "    # Validation\n",
        "    model.eval()\n",
        "    total_val_loss = 0.0\n",
        "    correct = 0\n",
        "    total = 0\n",
        "    start = time.time()\n",
        "    with torch.no_grad():\n",
        "        for images, labels in val_loader:\n",
        "            images = images.cuda()\n",
        "            labels = labels.cuda()\n",
        "            outputs = model(images)\n",
        "            labels = labels.long()\n",
        "            loss = criterion(outputs, labels)\n",
        "            total_val_loss += loss.item()\n",
        "            predicted = outputs.argmax(-1)\n",
        "            correct += (predicted.float() == labels).sum().item()\n",
        "            total += labels.size(0)\n",
        "\n",
        "    avg_val_loss = total_val_loss / len(val_loader)\n",
        "    val_accuracy = 100. * correct / total\n",
        "    valid_time+=time.time()-start\n",
        "\n",
        "    # Learning rate update\n",
        "    lr_scheduler.step()\n",
        "\n",
        "    # Checkpoint\n",
        "    if avg_val_loss < best_val_loss:\n",
        "        best_val_loss = avg_val_loss\n",
        "\n",
        "    if val_accuracy > best_val_acc:\n",
        "        best_val_acc = val_accuracy\n",
        "        torch.save(model.state_dict(), 'model_classification.pth')\n",
        "\n",
        "    print(f'Epoch {epoch+1}/{epochs}, Train loss: {avg_train_loss:.4f}, Train acc: {train_accuracy:.2f}%, Val loss: {avg_val_loss:.4f}, Val acc: {val_accuracy:.2f}%, Best Val loss: {best_val_loss:.4f} Best Val acc: {best_val_acc:.2f}%')\n",
        "\n",
        "    # Store performance\n",
        "    train_losses.append(avg_train_loss)\n",
        "    train_accuracies.append(train_accuracy)\n",
        "    val_losses.append(avg_val_loss)\n",
        "    val_accuracies.append(val_accuracy)\n",
        "print(train_time,valid_time)"
      ]
    },
    {
      "cell_type": "code",
      "execution_count": null,
      "metadata": {
        "id": "873PjIfl90Mx"
      },
      "outputs": [],
      "source": [
        "#save weight\n",
        "torch.save(model.state_dict(), 'report_weight.pt')"
      ]
    },
    {
      "cell_type": "markdown",
      "metadata": {
        "id": "pjmYxAJnxc6t"
      },
      "source": [
        "### Visualizing model performance"
      ]
    },
    {
      "cell_type": "code",
      "execution_count": 19,
      "metadata": {
        "id": "pHpS0Q7vxc6t",
        "colab": {
          "base_uri": "https://localhost:8080/",
          "height": 487
        },
        "outputId": "c7e6fe3b-b589-4878-bd2e-1c4d46dcab29"
      },
      "outputs": [
        {
          "output_type": "display_data",
          "data": {
            "text/plain": [
              "<Figure size 1500x500 with 2 Axes>"
            ],
            "image/png": "[encoded data removed]"
          },
          "metadata": {}
        }
      ],
      "source": [
        "import matplotlib.pyplot as plt\n",
        "\n",
        "fig, ax = plt.subplots(1, 2, figsize=(15, 5))\n",
        "\n",
        "# Plotting training and validation accuracy\n",
        "ax[0].plot(train_accuracies)\n",
        "ax[0].plot(val_accuracies)\n",
        "ax[0].set_title('Model Accuracy')\n",
        "ax[0].set_xlabel('Epochs')\n",
        "ax[0].set_ylabel('Accuracy')\n",
        "ax[0].legend(['Train', 'Val'])\n",
        "\n",
        "# Plotting training and validation loss\n",
        "ax[1].plot(train_losses)\n",
        "ax[1].plot(val_losses)\n",
        "ax[1].set_title('Model Loss')\n",
        "ax[1].set_xlabel('Epochs')\n",
        "ax[1].set_ylabel('Loss')\n",
        "ax[1].legend(['Train', 'Val'])\n",
        "\n",
        "plt.show()"
      ]
    },
    {
      "cell_type": "markdown",
      "metadata": {
        "id": "974pi5LFYojG"
      },
      "source": [
        "## D. Evaluating Your Trained Model"
      ]
    },
    {
      "cell_type": "markdown",
      "metadata": {
        "id": "D0zU_tOyYojG"
      },
      "source": [
        "### Process Test Dataset"
      ]
    },
    {
      "cell_type": "code",
      "execution_count": null,
      "metadata": {
        "id": "SmJ1N3HwYojH"
      },
      "outputs": [],
      "source": [
        "# Download test dataset,\n",
        "!wget -q -O report_test.npy \"https://www.dropbox.com/scl/fi/ufcagx2cvjmervgqrgwrt/report_test.npy?rlkey=fijueom5x54628ivpzeki2bt0&dl=1\""
      ]
    },
    {
      "cell_type": "code",
      "execution_count": null,
      "metadata": {
        "id": "dDNVGZu1YojI",
        "colab": {
          "base_uri": "https://localhost:8080/"
        },
        "outputId": "e8c1a49a-13ae-4ee8-e963-8af3e6f69ec8"
      },
      "outputs": [
        {
          "output_type": "stream",
          "name": "stdout",
          "text": [
            "Shape of x_test: (600, 3, 150, 150)\n",
            "x_test: max value is 255.0, min value is 0.0, data type is torch.float32.\n"
          ]
        }
      ],
      "source": [
        "x_test = np.transpose(np.load('report_test.npy'), (0, 3, 1, 2))\n",
        "print(f'Shape of x_test: {x_test.shape}')\n",
        "\n",
        "y_test = np.concatenate([np.full(100, i) for i in range(num_classes)])\n",
        "\n",
        "x_test = torch.from_numpy(x_test).float()\n",
        "y_test = torch.from_numpy(y_test).long()\n",
        "\n",
        "print(f'x_test: max value is {x_test.max().item()}, min value is {x_test.min().item()}, data type is {x_test.dtype}.')\n",
        "\n",
        "batch_size = 32\n",
        "\n",
        "# Combine the images and labels into a dataset\n",
        "test_dataset = TensorDataset(x_test, y_test)\n",
        "\n",
        "# Create a dataloader to load data in batches. Set batch size to 32.\n",
        "test_loader = DataLoader(test_dataset, batch_size, shuffle=False)"
      ]
    },
    {
      "cell_type": "markdown",
      "metadata": {
        "id": "KU8Q5MBaYojI"
      },
      "source": [
        "### Load Trained Model and Evaluate"
      ]
    },
    {
      "cell_type": "code",
      "execution_count": null,
      "metadata": {
        "id": "hLIavo4qYojJ",
        "colab": {
          "base_uri": "https://localhost:8080/"
        },
        "outputId": "3e17e751-7572-4c22-bf21-27899663a399"
      },
      "outputs": [
        {
          "output_type": "stream",
          "name": "stdout",
          "text": [
            "Test accuracy is 81.66666666666667%\n"
          ]
        }
      ],
      "source": [
        "# Load the trained weights\n",
        "model.load_state_dict(torch.load('model_classification.pth'))\n",
        "\n",
        "# Set the model to evaluation mode\n",
        "model.eval()\n",
        "\n",
        "test_correct = 0\n",
        "test_total = 0\n",
        "\n",
        "with torch.no_grad():\n",
        "    for images, labels in test_loader:\n",
        "\n",
        "        images = images.cuda()\n",
        "\n",
        "        labels = labels.cuda()\n",
        "        labels = labels.long()\n",
        "\n",
        "        outputs = model(images)\n",
        "\n",
        "        predicted = outputs.argmax(-1)\n",
        "        test_correct += (predicted.float() == labels).sum().item()\n",
        "        test_total += labels.size(0)\n",
        "\n",
        "\n",
        "print(f'Test accuracy is {100. * test_correct / test_total}%')"
      ]
    },
    {
      "cell_type": "code",
      "source": [
        "import csv\n",
        "with open('res34 True pool2.csv', 'w') as f:\n",
        "\n",
        "    # using csv.writer method from CSV package\n",
        "    write = csv.writer(f)\n",
        "    write.writerow(['train accuracies'])\n",
        "    write.writerow(train_accuracies)\n",
        "    write.writerow(['validation accuracy'])\n",
        "    write.writerow(val_accuracies)\n",
        "    write.writerow(['train loss'])\n",
        "    write.writerow(train_losses)\n",
        "    write.writerow(['validation loss'])\n",
        "    write.writerow(val_losses)\n",
        "    write.writerow(['training time(s)',train_time,'validation time(s)',valid_time])"
      ],
      "metadata": {
        "id": "sykbZVjA9sTd"
      },
      "execution_count": null,
      "outputs": []
    }
  ],
  "metadata": {
    "colab": {
      "provenance": [],
      "gpuType": "T4"
    },
    "kernelspec": {
      "display_name": "Python 3",
      "name": "python3"
    },
    "language_info": {
      "codemirror_mode": {
        "name": "ipython",
        "version": 3
      },
      "file_extension": ".py",
      "mimetype": "text/x-python",
      "name": "python",
      "nbconvert_exporter": "python",
      "pygments_lexer": "ipython3",
      "version": "3.8.13"
    },
    "widgets": {
      "application/vnd.jupyter.widget-state+json": {
        "787c8d098dd24255a69bf2ec1763ea87": {
          "model_module": "@jupyter-widgets/controls",
          "model_name": "HBoxModel",
          "model_module_version": "1.5.0",
          "state": {
            "_dom_classes": [],
            "_model_module": "@jupyter-widgets/controls",
            "_model_module_version": "1.5.0",
            "_model_name": "HBoxModel",
            "_view_count": null,
            "_view_module": "@jupyter-widgets/controls",
            "_view_module_version": "1.5.0",
            "_view_name": "HBoxView",
            "box_style": "",
            "children": [
              "IPY_MODEL_ae37792e1f0a4bab85b68d5f2745127c",
              "IPY_MODEL_0c5908e167d34b549d657b7c52a8c228",
              "IPY_MODEL_c28d01d0c05e42fb91b8d6bfedcf4ae3"
            ],
            "layout": "IPY_MODEL_eb9ec1d4b2584b42b2e6b1f744fcacf2"
          }
        },
        "ae37792e1f0a4bab85b68d5f2745127c": {
          "model_module": "@jupyter-widgets/controls",
          "model_name": "HTMLModel",
          "model_module_version": "1.5.0",
          "state": {
            "_dom_classes": [],
            "_model_module": "@jupyter-widgets/controls",
            "_model_module_version": "1.5.0",
            "_model_name": "HTMLModel",
            "_view_count": null,
            "_view_module": "@jupyter-widgets/controls",
            "_view_module_version": "1.5.0",
            "_view_name": "HTMLView",
            "description": "",
            "description_tooltip": null,
            "layout": "IPY_MODEL_89ff6a098abc476fb2166dd0f3ddd67a",
            "placeholder": "​",
            "style": "IPY_MODEL_3e5ac837fcb648f18a06cbd8db6276f4",
            "value": "100%"
          }
        },
        "0c5908e167d34b549d657b7c52a8c228": {
          "model_module": "@jupyter-widgets/controls",
          "model_name": "FloatProgressModel",
          "model_module_version": "1.5.0",
          "state": {
            "_dom_classes": [],
            "_model_module": "@jupyter-widgets/controls",
            "_model_module_version": "1.5.0",
            "_model_name": "FloatProgressModel",
            "_view_count": null,
            "_view_module": "@jupyter-widgets/controls",
            "_view_module_version": "1.5.0",
            "_view_name": "ProgressView",
            "bar_style": "success",
            "description": "",
            "description_tooltip": null,
            "layout": "IPY_MODEL_3d6d8b6367eb446bb90652e846559c61",
            "max": 100,
            "min": 0,
            "orientation": "horizontal",
            "style": "IPY_MODEL_735ac122d29b4ffcb26e536fa26d02a0",
            "value": 100
          }
        },
        "c28d01d0c05e42fb91b8d6bfedcf4ae3": {
          "model_module": "@jupyter-widgets/controls",
          "model_name": "HTMLModel",
          "model_module_version": "1.5.0",
          "state": {
            "_dom_classes": [],
            "_model_module": "@jupyter-widgets/controls",
            "_model_module_version": "1.5.0",
            "_model_name": "HTMLModel",
            "_view_count": null,
            "_view_module": "@jupyter-widgets/controls",
            "_view_module_version": "1.5.0",
            "_view_name": "HTMLView",
            "description": "",
            "description_tooltip": null,
            "layout": "IPY_MODEL_eb8aa00280114505af942f978d1d3087",
            "placeholder": "​",
            "style": "IPY_MODEL_b9729d2a7ab344adb0641b4c0be5e2d4",
            "value": " 100/100 [09:11&lt;00:00,  5.50s/it]"
          }
        },
        "eb9ec1d4b2584b42b2e6b1f744fcacf2": {
          "model_module": "@jupyter-widgets/base",
          "model_name": "LayoutModel",
          "model_module_version": "1.2.0",
          "state": {
            "_model_module": "@jupyter-widgets/base",
            "_model_module_version": "1.2.0",
            "_model_name": "LayoutModel",
            "_view_count": null,
            "_view_module": "@jupyter-widgets/base",
            "_view_module_version": "1.2.0",
            "_view_name": "LayoutView",
            "align_content": null,
            "align_items": null,
            "align_self": null,
            "border": null,
            "bottom": null,
            "display": null,
            "flex": null,
            "flex_flow": null,
            "grid_area": null,
            "grid_auto_columns": null,
            "grid_auto_flow": null,
            "grid_auto_rows": null,
            "grid_column": null,
            "grid_gap": null,
            "grid_row": null,
            "grid_template_areas": null,
            "grid_template_columns": null,
            "grid_template_rows": null,
            "height": null,
            "justify_content": null,
            "justify_items": null,
            "left": null,
            "margin": null,
            "max_height": null,
            "max_width": null,
            "min_height": null,
            "min_width": null,
            "object_fit": null,
            "object_position": null,
            "order": null,
            "overflow": null,
            "overflow_x": null,
            "overflow_y": null,
            "padding": null,
            "right": null,
            "top": null,
            "visibility": null,
            "width": null
          }
        },
        "89ff6a098abc476fb2166dd0f3ddd67a": {
          "model_module": "@jupyter-widgets/base",
          "model_name": "LayoutModel",
          "model_module_version": "1.2.0",
          "state": {
            "_model_module": "@jupyter-widgets/base",
            "_model_module_version": "1.2.0",
            "_model_name": "LayoutModel",
            "_view_count": null,
            "_view_module": "@jupyter-widgets/base",
            "_view_module_version": "1.2.0",
            "_view_name": "LayoutView",
            "align_content": null,
            "align_items": null,
            "align_self": null,
            "border": null,
            "bottom": null,
            "display": null,
            "flex": null,
            "flex_flow": null,
            "grid_area": null,
            "grid_auto_columns": null,
            "grid_auto_flow": null,
            "grid_auto_rows": null,
            "grid_column": null,
            "grid_gap": null,
            "grid_row": null,
            "grid_template_areas": null,
            "grid_template_columns": null,
            "grid_template_rows": null,
            "height": null,
            "justify_content": null,
            "justify_items": null,
            "left": null,
            "margin": null,
            "max_height": null,
            "max_width": null,
            "min_height": null,
            "min_width": null,
            "object_fit": null,
            "object_position": null,
            "order": null,
            "overflow": null,
            "overflow_x": null,
            "overflow_y": null,
            "padding": null,
            "right": null,
            "top": null,
            "visibility": null,
            "width": null
          }
        },
        "3e5ac837fcb648f18a06cbd8db6276f4": {
          "model_module": "@jupyter-widgets/controls",
          "model_name": "DescriptionStyleModel",
          "model_module_version": "1.5.0",
          "state": {
            "_model_module": "@jupyter-widgets/controls",
            "_model_module_version": "1.5.0",
            "_model_name": "DescriptionStyleModel",
            "_view_count": null,
            "_view_module": "@jupyter-widgets/base",
            "_view_module_version": "1.2.0",
            "_view_name": "StyleView",
            "description_width": ""
          }
        },
        "3d6d8b6367eb446bb90652e846559c61": {
          "model_module": "@jupyter-widgets/base",
          "model_name": "LayoutModel",
          "model_module_version": "1.2.0",
          "state": {
            "_model_module": "@jupyter-widgets/base",
            "_model_module_version": "1.2.0",
            "_model_name": "LayoutModel",
            "_view_count": null,
            "_view_module": "@jupyter-widgets/base",
            "_view_module_version": "1.2.0",
            "_view_name": "LayoutView",
            "align_content": null,
            "align_items": null,
            "align_self": null,
            "border": null,
            "bottom": null,
            "display": null,
            "flex": null,
            "flex_flow": null,
            "grid_area": null,
            "grid_auto_columns": null,
            "grid_auto_flow": null,
            "grid_auto_rows": null,
            "grid_column": null,
            "grid_gap": null,
            "grid_row": null,
            "grid_template_areas": null,
            "grid_template_columns": null,
            "grid_template_rows": null,
            "height": null,
            "justify_content": null,
            "justify_items": null,
            "left": null,
            "margin": null,
            "max_height": null,
            "max_width": null,
            "min_height": null,
            "min_width": null,
            "object_fit": null,
            "object_position": null,
            "order": null,
            "overflow": null,
            "overflow_x": null,
            "overflow_y": null,
            "padding": null,
            "right": null,
            "top": null,
            "visibility": null,
            "width": null
          }
        },
        "735ac122d29b4ffcb26e536fa26d02a0": {
          "model_module": "@jupyter-widgets/controls",
          "model_name": "ProgressStyleModel",
          "model_module_version": "1.5.0",
          "state": {
            "_model_module": "@jupyter-widgets/controls",
            "_model_module_version": "1.5.0",
            "_model_name": "ProgressStyleModel",
            "_view_count": null,
            "_view_module": "@jupyter-widgets/base",
            "_view_module_version": "1.2.0",
            "_view_name": "StyleView",
            "bar_color": null,
            "description_width": ""
          }
        },
        "eb8aa00280114505af942f978d1d3087": {
          "model_module": "@jupyter-widgets/base",
          "model_name": "LayoutModel",
          "model_module_version": "1.2.0",
          "state": {
            "_model_module": "@jupyter-widgets/base",
            "_model_module_version": "1.2.0",
            "_model_name": "LayoutModel",
            "_view_count": null,
            "_view_module": "@jupyter-widgets/base",
            "_view_module_version": "1.2.0",
            "_view_name": "LayoutView",
            "align_content": null,
            "align_items": null,
            "align_self": null,
            "border": null,
            "bottom": null,
            "display": null,
            "flex": null,
            "flex_flow": null,
            "grid_area": null,
            "grid_auto_columns": null,
            "grid_auto_flow": null,
            "grid_auto_rows": null,
            "grid_column": null,
            "grid_gap": null,
            "grid_row": null,
            "grid_template_areas": null,
            "grid_template_columns": null,
            "grid_template_rows": null,
            "height": null,
            "justify_content": null,
            "justify_items": null,
            "left": null,
            "margin": null,
            "max_height": null,
            "max_width": null,
            "min_height": null,
            "min_width": null,
            "object_fit": null,
            "object_position": null,
            "order": null,
            "overflow": null,
            "overflow_x": null,
            "overflow_y": null,
            "padding": null,
            "right": null,
            "top": null,
            "visibility": null,
            "width": null
          }
        },
        "b9729d2a7ab344adb0641b4c0be5e2d4": {
          "model_module": "@jupyter-widgets/controls",
          "model_name": "DescriptionStyleModel",
          "model_module_version": "1.5.0",
          "state": {
            "_model_module": "@jupyter-widgets/controls",
            "_model_module_version": "1.5.0",
            "_model_name": "DescriptionStyleModel",
            "_view_count": null,
            "_view_module": "@jupyter-widgets/base",
            "_view_module_version": "1.2.0",
            "_view_name": "StyleView",
            "description_width": ""
          }
        }
      }
    },
    "accelerator": "GPU"
  },
  "nbformat": 4,
  "nbformat_minor": 0
}
