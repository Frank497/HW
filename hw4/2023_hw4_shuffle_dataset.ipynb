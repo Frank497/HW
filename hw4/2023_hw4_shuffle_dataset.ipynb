{
  "cells": [
    {
      "cell_type": "markdown",
      "metadata": {
        "id": "view-in-github",
        "colab_type": "text"
      },
      "source": [
        "<a href=\"https://colab.research.google.com/github/Frank497/NTHU_2023_DLBOI_HW/blob/main/hw4/2023_hw4_shuffle_dataset.ipynb\" target=\"_parent\"><img src=\"https://colab.research.google.com/assets/colab-badge.svg\" alt=\"Open In Colab\"/></a>"
      ]
    },
    {
      "cell_type": "markdown",
      "metadata": {
        "id": "Li0bVCTuxc6n"
      },
      "source": [
        "<div align=\"center\">\n",
        "\n",
        "# National Tsing Hua University\n",
        "\n",
        "### Fall 2023\n",
        "\n",
        "#### 11210IPT 553000\n",
        "\n",
        "#### Deep Learning in Biomedical Optical Imaging\n",
        "\n",
        "## Lab 5: Transfer Learning for Image Classification\n",
        "</div>\n"
      ]
    },
    {
      "cell_type": "markdown",
      "metadata": {
        "id": "zdHytEYk4rvo"
      },
      "source": [
        "Welcome to this tutorial! Here, we'll explore the process of training a Convolutional Neural Network (CNN) for image classification through the powerful technique of transfer learning. To gain a deeper understanding of transfer learning, consider reviewing the comprehensive [cs231n notes](https://cs231n.github.io/transfer-learning/).\n",
        "\n",
        "#### The Essence of Transfer Learning\n",
        "\n",
        "A common challenge in training CNNs is the requirement for a large and diverse dataset. However, not every project or task has the luxury of such a dataset. This is where transfer learning becomes invaluable. In transfer learning, we leverage a pre-trained model— a model trained on a vast dataset, like ImageNet—and adapt it for a different, often more specific task.\n",
        "\n",
        "#### Key Transfer Learning Scenarios\n",
        "\n",
        "There are two primary approaches to using a pre-trained model in transfer learning:\n",
        "\n",
        "1. **Finetuning the ConvNet:**\n",
        "   - **Process:** Start with a pre-trained model and fine-tune it for a specific task.\n",
        "   - **Initialization:** We initialize the model with the weights of a pre-trained network, ensuring a strong and relevant foundation.\n",
        "   - **Training:** The model is then trained further on the new, specific dataset. It adapts and refines the pre-existing knowledge to fit the new data and task at hand.\n",
        "\n",
        "2. **ConvNet as Fixed Feature Extractor:**\n",
        "   - **Process:** Use the pre-trained model as a feature extractor and only train a new classifier on top of it.\n",
        "   - **Frozen Layers:** All the layers of the pre-trained model, except the final fully connected layer, are frozen. Their weights remain unchanged.\n",
        "   - **New Layer:** The final layer is replaced with a new one, initialized with random weights. This layer is then trained on the new dataset.\n",
        "   - **Result:** The model harnesses the features learned from the large dataset and combines them with the specific learnings from the new data."
      ]
    },
    {
      "cell_type": "code",
      "execution_count": 1,
      "metadata": {
        "id": "mGJcRwdzM7pS",
        "colab": {
          "base_uri": "https://localhost:8080/"
        },
        "outputId": "7ba09f39-f8aa-4abc-f6d0-2bcd53920d59"
      },
      "outputs": [
        {
          "output_type": "stream",
          "name": "stdout",
          "text": [
            "--2023-11-05 08:23:00--  https://raw.githubusercontent.com/TacoXDD/homeworks/master/dataset/train/normal.npy\n",
            "Resolving raw.githubusercontent.com (raw.githubusercontent.com)... 185.199.111.133, 185.199.109.133, 185.199.110.133, ...\n",
            "Connecting to raw.githubusercontent.com (raw.githubusercontent.com)|185.199.111.133|:443... connected.\n",
            "HTTP request sent, awaiting response... 200 OK\n",
            "Length: 65536128 (62M) [application/octet-stream]\n",
            "Saving to: ‘normal.npy’\n",
            "\n",
            "normal.npy          100%[===================>]  62.50M   247MB/s    in 0.3s    \n",
            "\n",
            "2023-11-05 08:23:01 (247 MB/s) - ‘normal.npy’ saved [65536128/65536128]\n",
            "\n",
            "--2023-11-05 08:23:01--  https://raw.githubusercontent.com/TacoXDD/homeworks/master/dataset/train/pneumonia.npy\n",
            "Resolving raw.githubusercontent.com (raw.githubusercontent.com)... 185.199.108.133, 185.199.109.133, 185.199.110.133, ...\n",
            "Connecting to raw.githubusercontent.com (raw.githubusercontent.com)|185.199.108.133|:443... connected.\n",
            "HTTP request sent, awaiting response... 200 OK\n",
            "Length: 65536128 (62M) [application/octet-stream]\n",
            "Saving to: ‘pneumonia.npy’\n",
            "\n",
            "pneumonia.npy       100%[===================>]  62.50M   241MB/s    in 0.3s    \n",
            "\n",
            "2023-11-05 08:23:01 (241 MB/s) - ‘pneumonia.npy’ saved [65536128/65536128]\n",
            "\n",
            "--2023-11-05 08:23:01--  https://raw.githubusercontent.com/TacoXDD/homeworks/master/dataset/test/test_normal.npy\n",
            "Resolving raw.githubusercontent.com (raw.githubusercontent.com)... 185.199.108.133, 185.199.109.133, 185.199.110.133, ...\n",
            "Connecting to raw.githubusercontent.com (raw.githubusercontent.com)|185.199.108.133|:443... connected.\n",
            "HTTP request sent, awaiting response... 200 OK\n",
            "Length: 13107328 (12M) [application/octet-stream]\n",
            "Saving to: ‘test_normal.npy’\n",
            "\n",
            "test_normal.npy     100%[===================>]  12.50M  --.-KB/s    in 0.1s    \n",
            "\n",
            "2023-11-05 08:23:02 (115 MB/s) - ‘test_normal.npy’ saved [13107328/13107328]\n",
            "\n",
            "--2023-11-05 08:23:02--  https://raw.githubusercontent.com/TacoXDD/homeworks/master/dataset/test/test_pneumonia.npy\n",
            "Resolving raw.githubusercontent.com (raw.githubusercontent.com)... 185.199.109.133, 185.199.111.133, 185.199.110.133, ...\n",
            "Connecting to raw.githubusercontent.com (raw.githubusercontent.com)|185.199.109.133|:443... connected.\n",
            "HTTP request sent, awaiting response... 200 OK\n",
            "Length: 13107328 (12M) [application/octet-stream]\n",
            "Saving to: ‘test_pneumonia.npy’\n",
            "\n",
            "test_pneumonia.npy  100%[===================>]  12.50M  --.-KB/s    in 0.1s    \n",
            "\n",
            "2023-11-05 08:23:02 (114 MB/s) - ‘test_pneumonia.npy’ saved [13107328/13107328]\n",
            "\n"
          ]
        }
      ],
      "source": [
        "# # Download dataset\n",
        "!wget https://raw.githubusercontent.com/TacoXDD/homeworks/master/dataset/train/normal.npy\n",
        "!wget https://raw.githubusercontent.com/TacoXDD/homeworks/master/dataset/train/pneumonia.npy\n",
        "!wget https://raw.githubusercontent.com/TacoXDD/homeworks/master/dataset/test/test_normal.npy\n",
        "!wget https://raw.githubusercontent.com/TacoXDD/homeworks/master/dataset/test/test_pneumonia.npy"
      ]
    },
    {
      "cell_type": "code",
      "source": [
        "'''\n",
        "from PIL import Image\n",
        "\n",
        "at = abnormal_scans.astype('int8')\n",
        "imgs = [Image.fromarray(img) for img in at]\n",
        "# duration is the number of milliseconds between frames; this is 40 frames per second\n",
        "imgs[0].save(\"abnorm_train.gif\", save_all=True, append_images=imgs[1:], duration=50, loop=0)\n",
        "nt = normal_scans.astype('int8')\n",
        "imgs = [Image.fromarray(img) for img in nt]\n",
        "# duration is the number of milliseconds between frames; this is 40 frames per second\n",
        "imgs[0].save(\"norm_train.gif\", save_all=True, append_images=imgs[1:], duration=50, loop=0)\n",
        "\n",
        "a = abnormal_test.astype('int8')\n",
        "imgs = [Image.fromarray(img) for img in a]\n",
        "# duration is the number of milliseconds between frames; this is 40 frames per second\n",
        "imgs[0].save(\"abnorm_test.gif\", save_all=True, append_images=imgs[1:], duration=50, loop=0)\n",
        "n = normal_test.astype('int8')\n",
        "imgs = [Image.fromarray(img) for img in n]\n",
        "# duration is the number of milliseconds between frames; this is 40 frames per second\n",
        "imgs[0].save(\"norm_test.gif\", save_all=True, append_images=imgs[1:], duration=50, loop=0)\n",
        "'''"
      ],
      "metadata": {
        "id": "ae2b9KRRitZc",
        "colab": {
          "base_uri": "https://localhost:8080/",
          "height": 123
        },
        "outputId": "d9c49490-abb1-4362-c83a-8f22bab38db7"
      },
      "execution_count": 2,
      "outputs": [
        {
          "output_type": "execute_result",
          "data": {
            "text/plain": [
              "'\\nfrom PIL import Image\\n\\nat = abnormal_scans.astype(\\'int8\\')\\nimgs = [Image.fromarray(img) for img in at]\\n# duration is the number of milliseconds between frames; this is 40 frames per second\\nimgs[0].save(\"abnorm_train.gif\", save_all=True, append_images=imgs[1:], duration=50, loop=0)\\nnt = normal_scans.astype(\\'int8\\')\\nimgs = [Image.fromarray(img) for img in nt]\\n# duration is the number of milliseconds between frames; this is 40 frames per second\\nimgs[0].save(\"norm_train.gif\", save_all=True, append_images=imgs[1:], duration=50, loop=0)\\n\\na = abnormal_test.astype(\\'int8\\')\\nimgs = [Image.fromarray(img) for img in a]\\n# duration is the number of milliseconds between frames; this is 40 frames per second\\nimgs[0].save(\"abnorm_test.gif\", save_all=True, append_images=imgs[1:], duration=50, loop=0)\\nn = normal_test.astype(\\'int8\\')\\nimgs = [Image.fromarray(img) for img in n]\\n# duration is the number of milliseconds between frames; this is 40 frames per second\\nimgs[0].save(\"norm_test.gif\", save_all=True, append_images=imgs[1:], duration=50, loop=0)\\n'"
            ],
            "application/vnd.google.colaboratory.intrinsic+json": {
              "type": "string"
            }
          },
          "metadata": {},
          "execution_count": 2
        }
      ]
    },
    {
      "cell_type": "markdown",
      "metadata": {
        "id": "w-1PsC--M7pT"
      },
      "source": [
        "## A. Data Loading and Preprocessing"
      ]
    },
    {
      "cell_type": "markdown",
      "metadata": {
        "id": "ISR3edM24rvs"
      },
      "source": [
        "Use PyTorch  [`Tensor.repeat()`](https://pytorch.org/docs/stable/generated/torch.Tensor.repeat.html) to change the number of channels from 1 to 3.\n"
      ]
    },
    {
      "cell_type": "code",
      "execution_count": 3,
      "metadata": {
        "id": "oScQ0GG6xc6r",
        "colab": {
          "base_uri": "https://localhost:8080/",
          "height": 122
        },
        "outputId": "a9429e36-e7a1-4abd-8e62-908689af9e58"
      },
      "outputs": [
        {
          "output_type": "stream",
          "name": "stdout",
          "text": [
            "Shape of abnormal: (1200, 256, 256)\n",
            "Shape of normal: (1200, 256, 256)\n"
          ]
        },
        {
          "output_type": "execute_result",
          "data": {
            "text/plain": [
              "'\\nx_train = np.concatenate((abnormal_scans[:split_point], normal_scans[:split_point]), axis=0)\\ny_train = np.concatenate((abnormal_labels[:split_point], normal_labels[:split_point]), axis=0)\\nx_val = np.concatenate((abnormal_scans[split_point:], normal_scans[split_point:]), axis=0)\\ny_val = np.concatenate((abnormal_labels[split_point:], normal_labels[split_point:]), axis=0)\\n\\n# Convert to PyTorch tensors\\nx_train = torch.from_numpy(x_train).float().unsqueeze(1).repeat(1, 3, 1, 1)\\ny_train = torch.from_numpy(y_train).long()\\nx_val = torch.from_numpy(x_val).float().unsqueeze(1).repeat(1, 3, 1, 1)\\ny_val = torch.from_numpy(y_val).long()\\n'"
            ],
            "application/vnd.google.colaboratory.intrinsic+json": {
              "type": "string"
            }
          },
          "metadata": {},
          "execution_count": 3
        }
      ],
      "source": [
        "import torch\n",
        "from torch.utils.data import DataLoader, TensorDataset, random_split\n",
        "import random\n",
        "import numpy as np\n",
        "\n",
        "# Load Dataset\n",
        "abnormal_scans = np.load('pneumonia.npy')\n",
        "normal_scans = np.load('normal.npy')\n",
        "abnormal_test = np.load('test_pneumonia.npy')\n",
        "normal_test = np.load('test_normal.npy')\n",
        "#print(f'Shape of abnormal_scans: {abnormal_scans.shape}')\n",
        "#print(f'Shape of normal_scans: {normal_scans.shape}')\n",
        "\n",
        "\n",
        "# For the data having presence of pneumonia assign 1, for the normal ones assign 0.\n",
        "\n",
        "abnormal_labels = np.ones((abnormal_scans.shape[0]+abnormal_test.shape[0],))\n",
        "normal_labels = np.zeros((normal_scans.shape[0]+normal_test.shape[0],))\n",
        "\n",
        "split_point1 = 800\n",
        "split_point2 = 1000\n",
        "\n",
        "abnormal = np.concatenate ((abnormal_scans[:], abnormal_test[:]), axis=0)\n",
        "normal = np.concatenate((normal_scans[:], normal_test[:]), axis=0)\n",
        "\n",
        "\n",
        "print(f'Shape of abnormal: {abnormal.shape}')\n",
        "print(f'Shape of normal: {normal.shape}')\n",
        "'''\n",
        "x_train = np.concatenate((abnormal_scans[:split_point], normal_scans[:split_point]), axis=0)\n",
        "y_train = np.concatenate((abnormal_labels[:split_point], normal_labels[:split_point]), axis=0)\n",
        "x_val = np.concatenate((abnormal_scans[split_point:], normal_scans[split_point:]), axis=0)\n",
        "y_val = np.concatenate((abnormal_labels[split_point:], normal_labels[split_point:]), axis=0)\n",
        "\n",
        "# Convert to PyTorch tensors\n",
        "x_train = torch.from_numpy(x_train).float().unsqueeze(1).repeat(1, 3, 1, 1)\n",
        "y_train = torch.from_numpy(y_train).long()\n",
        "x_val = torch.from_numpy(x_val).float().unsqueeze(1).repeat(1, 3, 1, 1)\n",
        "y_val = torch.from_numpy(y_val).long()\n",
        "'''"
      ]
    },
    {
      "cell_type": "code",
      "source": [
        "index=np.arange(0,1200)\n",
        "random.shuffle(index)\n",
        "\n",
        "train_index=index[:split_point1]\n",
        "val_index=index[split_point1:split_point2]\n",
        "test_index=index[split_point2:]\n",
        "\n",
        "x_train = np.concatenate((abnormal[train_index], normal[train_index]), axis=0)\n",
        "y_train = np.concatenate((abnormal_labels[train_index], normal_labels[train_index]), axis=0)\n",
        "x_val = np.concatenate((abnormal[val_index], normal[val_index]), axis=0)\n",
        "y_val = np.concatenate((abnormal_labels[val_index], normal_labels[val_index]), axis=0)\n",
        "x_test = np.concatenate((abnormal[test_index], normal[test_index]), axis=0)\n",
        "y_test = np.concatenate((abnormal_labels[test_index], normal_labels[test_index]), axis=0)\n",
        "\n",
        "# Convert to PyTorch tensors\n",
        "x_train = torch.from_numpy(x_train).float().unsqueeze(1).repeat(1, 3, 1, 1)\n",
        "y_train = torch.from_numpy(y_train).long()\n",
        "x_val = torch.from_numpy(x_val).float().unsqueeze(1).repeat(1, 3, 1, 1)\n",
        "y_val = torch.from_numpy(y_val).long()\n",
        "x_test = torch.from_numpy(x_test).float().unsqueeze(1).repeat(1, 3, 1, 1)\n",
        "y_test = torch.from_numpy(y_test).long()"
      ],
      "metadata": {
        "id": "Nq6hbv_1Z0KQ"
      },
      "execution_count": 4,
      "outputs": []
    },
    {
      "cell_type": "code",
      "execution_count": 5,
      "metadata": {
        "colab": {
          "base_uri": "https://localhost:8080/"
        },
        "id": "V2FEcYvH4rvu",
        "outputId": "997d3b81-79cc-4b52-dab4-fede91750b75"
      },
      "outputs": [
        {
          "output_type": "stream",
          "name": "stdout",
          "text": [
            "Number of samples in train, validation and test are 1600, 400 and 400.\n",
            "X_train: max value is 255.0, min value is 0.0, data type is torch.float32.\n"
          ]
        }
      ],
      "source": [
        "# Create datasets\n",
        "train_dataset = TensorDataset(x_train, y_train)\n",
        "val_dataset = TensorDataset(x_val, y_val)\n",
        "test_dataset = TensorDataset(x_test, y_test)\n",
        "\n",
        "# Create dataloaders\n",
        "train_loader = DataLoader(train_dataset, batch_size=32, shuffle=True)\n",
        "val_loader = DataLoader(val_dataset, batch_size=32, shuffle=False)\n",
        "test_loader = DataLoader(test_dataset, batch_size=32, shuffle=False)\n",
        "\n",
        "print(f'Number of samples in train, validation and test are {len(train_loader.dataset)}, {len(val_loader.dataset)} and {len(test_loader.dataset)}.')\n",
        "print(f'X_train: max value is {x_train.max().item()}, min value is {x_train.min().item()}, data type is {x_train.dtype}.')"
      ]
    },
    {
      "cell_type": "markdown",
      "metadata": {
        "id": "oaLGtT28xc6s"
      },
      "source": [
        "## B. Defining Neural Networks\n",
        "\n",
        "### 1. Finetuning the ConvNet\n",
        "\n",
        "Load a pretrained model and reset final fully connected layer.\n",
        "\n",
        "### 2. ConvNet as fixed feature extractor\n",
        "\n",
        "Here, we need to freeze all the network except the final layer. We need\n",
        "to set ``requires_grad = False`` to freeze the parameters so that the\n",
        "gradients are not computed in ``backward()``."
      ]
    },
    {
      "cell_type": "code",
      "execution_count": 6,
      "metadata": {
        "colab": {
          "base_uri": "https://localhost:8080/"
        },
        "id": "U8NssmT-4rvu",
        "outputId": "82dbd5f9-0c0f-44cb-8735-c12d8d07e26d"
      },
      "outputs": [
        {
          "output_type": "stream",
          "name": "stderr",
          "text": [
            "Downloading: \"https://download.pytorch.org/models/resnet18-f37072fd.pth\" to /root/.cache/torch/hub/checkpoints/resnet18-f37072fd.pth\n",
            "100%|██████████| 44.7M/44.7M [00:00<00:00, 50.6MB/s]\n"
          ]
        },
        {
          "output_type": "stream",
          "name": "stdout",
          "text": [
            "ResNet(\n",
            "  (conv1): Conv2d(3, 64, kernel_size=(7, 7), stride=(2, 2), padding=(3, 3), bias=False)\n",
            "  (bn1): BatchNorm2d(64, eps=1e-05, momentum=0.1, affine=True, track_running_stats=True)\n",
            "  (relu): ReLU(inplace=True)\n",
            "  (maxpool): MaxPool2d(kernel_size=3, stride=2, padding=1, dilation=1, ceil_mode=False)\n",
            "  (layer1): Sequential(\n",
            "    (0): BasicBlock(\n",
            "      (conv1): Conv2d(64, 64, kernel_size=(3, 3), stride=(1, 1), padding=(1, 1), bias=False)\n",
            "      (bn1): BatchNorm2d(64, eps=1e-05, momentum=0.1, affine=True, track_running_stats=True)\n",
            "      (relu): ReLU(inplace=True)\n",
            "      (conv2): Conv2d(64, 64, kernel_size=(3, 3), stride=(1, 1), padding=(1, 1), bias=False)\n",
            "      (bn2): BatchNorm2d(64, eps=1e-05, momentum=0.1, affine=True, track_running_stats=True)\n",
            "    )\n",
            "    (1): BasicBlock(\n",
            "      (conv1): Conv2d(64, 64, kernel_size=(3, 3), stride=(1, 1), padding=(1, 1), bias=False)\n",
            "      (bn1): BatchNorm2d(64, eps=1e-05, momentum=0.1, affine=True, track_running_stats=True)\n",
            "      (relu): ReLU(inplace=True)\n",
            "      (conv2): Conv2d(64, 64, kernel_size=(3, 3), stride=(1, 1), padding=(1, 1), bias=False)\n",
            "      (bn2): BatchNorm2d(64, eps=1e-05, momentum=0.1, affine=True, track_running_stats=True)\n",
            "    )\n",
            "  )\n",
            "  (layer2): Sequential(\n",
            "    (0): BasicBlock(\n",
            "      (conv1): Conv2d(64, 128, kernel_size=(3, 3), stride=(2, 2), padding=(1, 1), bias=False)\n",
            "      (bn1): BatchNorm2d(128, eps=1e-05, momentum=0.1, affine=True, track_running_stats=True)\n",
            "      (relu): ReLU(inplace=True)\n",
            "      (conv2): Conv2d(128, 128, kernel_size=(3, 3), stride=(1, 1), padding=(1, 1), bias=False)\n",
            "      (bn2): BatchNorm2d(128, eps=1e-05, momentum=0.1, affine=True, track_running_stats=True)\n",
            "      (downsample): Sequential(\n",
            "        (0): Conv2d(64, 128, kernel_size=(1, 1), stride=(2, 2), bias=False)\n",
            "        (1): BatchNorm2d(128, eps=1e-05, momentum=0.1, affine=True, track_running_stats=True)\n",
            "      )\n",
            "    )\n",
            "    (1): BasicBlock(\n",
            "      (conv1): Conv2d(128, 128, kernel_size=(3, 3), stride=(1, 1), padding=(1, 1), bias=False)\n",
            "      (bn1): BatchNorm2d(128, eps=1e-05, momentum=0.1, affine=True, track_running_stats=True)\n",
            "      (relu): ReLU(inplace=True)\n",
            "      (conv2): Conv2d(128, 128, kernel_size=(3, 3), stride=(1, 1), padding=(1, 1), bias=False)\n",
            "      (bn2): BatchNorm2d(128, eps=1e-05, momentum=0.1, affine=True, track_running_stats=True)\n",
            "    )\n",
            "  )\n",
            "  (layer3): Sequential(\n",
            "    (0): BasicBlock(\n",
            "      (conv1): Conv2d(128, 256, kernel_size=(3, 3), stride=(2, 2), padding=(1, 1), bias=False)\n",
            "      (bn1): BatchNorm2d(256, eps=1e-05, momentum=0.1, affine=True, track_running_stats=True)\n",
            "      (relu): ReLU(inplace=True)\n",
            "      (conv2): Conv2d(256, 256, kernel_size=(3, 3), stride=(1, 1), padding=(1, 1), bias=False)\n",
            "      (bn2): BatchNorm2d(256, eps=1e-05, momentum=0.1, affine=True, track_running_stats=True)\n",
            "      (downsample): Sequential(\n",
            "        (0): Conv2d(128, 256, kernel_size=(1, 1), stride=(2, 2), bias=False)\n",
            "        (1): BatchNorm2d(256, eps=1e-05, momentum=0.1, affine=True, track_running_stats=True)\n",
            "      )\n",
            "    )\n",
            "    (1): BasicBlock(\n",
            "      (conv1): Conv2d(256, 256, kernel_size=(3, 3), stride=(1, 1), padding=(1, 1), bias=False)\n",
            "      (bn1): BatchNorm2d(256, eps=1e-05, momentum=0.1, affine=True, track_running_stats=True)\n",
            "      (relu): ReLU(inplace=True)\n",
            "      (conv2): Conv2d(256, 256, kernel_size=(3, 3), stride=(1, 1), padding=(1, 1), bias=False)\n",
            "      (bn2): BatchNorm2d(256, eps=1e-05, momentum=0.1, affine=True, track_running_stats=True)\n",
            "    )\n",
            "  )\n",
            "  (layer4): Sequential(\n",
            "    (0): BasicBlock(\n",
            "      (conv1): Conv2d(256, 512, kernel_size=(3, 3), stride=(2, 2), padding=(1, 1), bias=False)\n",
            "      (bn1): BatchNorm2d(512, eps=1e-05, momentum=0.1, affine=True, track_running_stats=True)\n",
            "      (relu): ReLU(inplace=True)\n",
            "      (conv2): Conv2d(512, 512, kernel_size=(3, 3), stride=(1, 1), padding=(1, 1), bias=False)\n",
            "      (bn2): BatchNorm2d(512, eps=1e-05, momentum=0.1, affine=True, track_running_stats=True)\n",
            "      (downsample): Sequential(\n",
            "        (0): Conv2d(256, 512, kernel_size=(1, 1), stride=(2, 2), bias=False)\n",
            "        (1): BatchNorm2d(512, eps=1e-05, momentum=0.1, affine=True, track_running_stats=True)\n",
            "      )\n",
            "    )\n",
            "    (1): BasicBlock(\n",
            "      (conv1): Conv2d(512, 512, kernel_size=(3, 3), stride=(1, 1), padding=(1, 1), bias=False)\n",
            "      (bn1): BatchNorm2d(512, eps=1e-05, momentum=0.1, affine=True, track_running_stats=True)\n",
            "      (relu): ReLU(inplace=True)\n",
            "      (conv2): Conv2d(512, 512, kernel_size=(3, 3), stride=(1, 1), padding=(1, 1), bias=False)\n",
            "      (bn2): BatchNorm2d(512, eps=1e-05, momentum=0.1, affine=True, track_running_stats=True)\n",
            "    )\n",
            "  )\n",
            "  (avgpool): AdaptiveAvgPool2d(output_size=(1, 1))\n",
            "  (fc): Linear(in_features=512, out_features=2, bias=True)\n",
            ")\n"
          ]
        }
      ],
      "source": [
        "import torch.nn as nn\n",
        "import torch.nn.functional as F\n",
        "from torchvision import models\n",
        "\n",
        "model = models.resnet18(weights='IMAGENET1K_V1')\n",
        "\n",
        "# ConvNet as fixed feature extractor (freeze parameters)\n",
        "for param in model.parameters():\n",
        "    param.requires_grad = True\n",
        "\n",
        "num_ftrs = model.fc.in_features\n",
        "\n",
        "# Here the size of each output sample is set to 2.\n",
        "# Alternatively, it can be generalized to ``nn.Linear(num_ftrs, len(class_names))``.\n",
        "model.fc = nn.Linear(num_ftrs, 2)\n",
        "model = model.cuda()\n",
        "print(model)"
      ]
    },
    {
      "cell_type": "markdown",
      "metadata": {
        "id": "nvLTU-IfZLqn"
      },
      "source": [
        "## C. Training the Neural Network"
      ]
    },
    {
      "cell_type": "code",
      "execution_count": 10,
      "metadata": {
        "id": "45ol4lpVxc6t",
        "colab": {
          "base_uri": "https://localhost:8080/",
          "height": 570,
          "referenced_widgets": [
            "78c4cd3710f1456e8c9e684bb5393202",
            "fd3dd8934bf147eeb90bde4155d028cc",
            "4762ca0231634c34ae22ffac443f7ad6",
            "558860a211214f7196af00c6e18268a8",
            "662ae14707a64af193360b40995c9ced",
            "5e5a6d4cc14e4da08f814cf1fea273ba",
            "dda1a857474d40a0bd1966273e46bbf4",
            "11a19c7dc4304af8af5cfc983b8aaa7c",
            "464ad9d118754604982d0b8e0abb4008",
            "75e4f2c93c494cbca62cc11096988051",
            "63a4fda099dd4dcda6edb0d4a5b99fc7"
          ]
        },
        "outputId": "7a962c25-b2a8-4921-d9a8-d62a9da2b43b"
      },
      "outputs": [
        {
          "output_type": "display_data",
          "data": {
            "text/plain": [
              "  0%|          | 0/30 [00:00<?, ?it/s]"
            ],
            "application/vnd.jupyter.widget-view+json": {
              "version_major": 2,
              "version_minor": 0,
              "model_id": "78c4cd3710f1456e8c9e684bb5393202"
            }
          },
          "metadata": {}
        },
        {
          "output_type": "stream",
          "name": "stdout",
          "text": [
            "Epoch 1/30, Train loss: 0.0295, Train acc: 99.25%, Val loss: 0.1248, Val acc: 96.25%, Best Val loss: 0.1248 Best Val acc: 96.25%\n",
            "Epoch 2/30, Train loss: 0.0244, Train acc: 99.06%, Val loss: 0.1185, Val acc: 97.00%, Best Val loss: 0.1185 Best Val acc: 97.00%\n",
            "Epoch 3/30, Train loss: 0.0210, Train acc: 99.12%, Val loss: 0.1144, Val acc: 97.00%, Best Val loss: 0.1144 Best Val acc: 97.00%\n",
            "Epoch 4/30, Train loss: 0.0147, Train acc: 99.56%, Val loss: 0.1195, Val acc: 96.25%, Best Val loss: 0.1144 Best Val acc: 97.00%\n",
            "Epoch 5/30, Train loss: 0.0074, Train acc: 99.62%, Val loss: 0.1168, Val acc: 96.25%, Best Val loss: 0.1144 Best Val acc: 97.00%\n",
            "Epoch 6/30, Train loss: 0.0028, Train acc: 99.88%, Val loss: 0.1093, Val acc: 96.25%, Best Val loss: 0.1093 Best Val acc: 97.00%\n",
            "Epoch 7/30, Train loss: 0.0028, Train acc: 99.88%, Val loss: 0.1209, Val acc: 96.25%, Best Val loss: 0.1093 Best Val acc: 97.00%\n",
            "Epoch 8/30, Train loss: 0.0016, Train acc: 99.94%, Val loss: 0.1119, Val acc: 96.50%, Best Val loss: 0.1093 Best Val acc: 97.00%\n",
            "Epoch 9/30, Train loss: 0.0016, Train acc: 99.94%, Val loss: 0.0750, Val acc: 97.50%, Best Val loss: 0.0750 Best Val acc: 97.50%\n",
            "Epoch 10/30, Train loss: 0.0040, Train acc: 99.75%, Val loss: 0.3348, Val acc: 92.75%, Best Val loss: 0.0750 Best Val acc: 97.50%\n",
            "Epoch 11/30, Train loss: 0.0531, Train acc: 98.69%, Val loss: 0.9798, Val acc: 71.75%, Best Val loss: 0.0750 Best Val acc: 97.50%\n",
            "Epoch 12/30, Train loss: 0.0691, Train acc: 97.38%, Val loss: 0.0780, Val acc: 97.25%, Best Val loss: 0.0750 Best Val acc: 97.50%\n",
            "Epoch 13/30, Train loss: 0.0078, Train acc: 99.94%, Val loss: 0.0556, Val acc: 98.00%, Best Val loss: 0.0556 Best Val acc: 98.00%\n",
            "Epoch 14/30, Train loss: 0.0033, Train acc: 99.94%, Val loss: 0.1933, Val acc: 94.25%, Best Val loss: 0.0556 Best Val acc: 98.00%\n",
            "Epoch 15/30, Train loss: 0.0045, Train acc: 99.88%, Val loss: 0.1136, Val acc: 96.50%, Best Val loss: 0.0556 Best Val acc: 98.00%\n",
            "Epoch 16/30, Train loss: 0.0105, Train acc: 99.50%, Val loss: 0.0864, Val acc: 97.75%, Best Val loss: 0.0556 Best Val acc: 98.00%\n",
            "Epoch 17/30, Train loss: 0.0030, Train acc: 99.94%, Val loss: 0.1585, Val acc: 96.25%, Best Val loss: 0.0556 Best Val acc: 98.00%\n",
            "Epoch 18/30, Train loss: 0.0166, Train acc: 99.50%, Val loss: 0.1070, Val acc: 96.75%, Best Val loss: 0.0556 Best Val acc: 98.00%\n",
            "Epoch 19/30, Train loss: 0.0154, Train acc: 99.38%, Val loss: 0.1171, Val acc: 96.25%, Best Val loss: 0.0556 Best Val acc: 98.00%\n",
            "Epoch 20/30, Train loss: 0.0022, Train acc: 100.00%, Val loss: 0.0827, Val acc: 97.75%, Best Val loss: 0.0556 Best Val acc: 98.00%\n",
            "Epoch 21/30, Train loss: 0.0003, Train acc: 100.00%, Val loss: 0.0718, Val acc: 97.75%, Best Val loss: 0.0556 Best Val acc: 98.00%\n",
            "Epoch 22/30, Train loss: 0.0001, Train acc: 100.00%, Val loss: 0.0693, Val acc: 98.00%, Best Val loss: 0.0556 Best Val acc: 98.00%\n",
            "Epoch 23/30, Train loss: 0.0001, Train acc: 100.00%, Val loss: 0.0702, Val acc: 98.25%, Best Val loss: 0.0556 Best Val acc: 98.25%\n",
            "Epoch 24/30, Train loss: 0.0002, Train acc: 100.00%, Val loss: 0.0951, Val acc: 98.25%, Best Val loss: 0.0556 Best Val acc: 98.25%\n",
            "Epoch 25/30, Train loss: 0.0002, Train acc: 100.00%, Val loss: 0.0695, Val acc: 97.75%, Best Val loss: 0.0556 Best Val acc: 98.25%\n",
            "Epoch 26/30, Train loss: 0.0001, Train acc: 100.00%, Val loss: 0.0699, Val acc: 98.50%, Best Val loss: 0.0556 Best Val acc: 98.50%\n",
            "Epoch 27/30, Train loss: 0.0003, Train acc: 100.00%, Val loss: 0.0729, Val acc: 98.75%, Best Val loss: 0.0556 Best Val acc: 98.75%\n",
            "Epoch 28/30, Train loss: 0.0004, Train acc: 100.00%, Val loss: 0.0730, Val acc: 98.25%, Best Val loss: 0.0556 Best Val acc: 98.75%\n",
            "Epoch 29/30, Train loss: 0.0001, Train acc: 100.00%, Val loss: 0.0668, Val acc: 98.00%, Best Val loss: 0.0556 Best Val acc: 98.75%\n",
            "Epoch 30/30, Train loss: 0.0003, Train acc: 100.00%, Val loss: 0.0695, Val acc: 97.50%, Best Val loss: 0.0556 Best Val acc: 98.75%\n"
          ]
        }
      ],
      "source": [
        "import torch.optim as optim\n",
        "from torch.optim.lr_scheduler import CosineAnnealingLR, StepLR\n",
        "from tqdm.auto import tqdm\n",
        "\n",
        "train_losses = []\n",
        "val_losses = []\n",
        "test_losses = []\n",
        "train_accuracies = []\n",
        "val_accuracies = []\n",
        "test_accuracies = []\n",
        "\n",
        "epochs =30\n",
        "\n",
        "# Change you model here\n",
        "# model = ConvGAP()\n",
        "# print(model)\n",
        "# model = model.cuda()\n",
        "\n",
        "best_val_loss = float('inf')\n",
        "best_val_acc = -1\n",
        "\n",
        "criterion = nn.CrossEntropyLoss()\n",
        "optimizer = optim.Adam(model.parameters(), lr=1e-3)\n",
        "lr_scheduler = CosineAnnealingLR(optimizer, T_max=len(train_loader)*epochs, eta_min=0)\n",
        "\n",
        "for epoch in tqdm(range(epochs)):\n",
        "    # Training\n",
        "    model.train()\n",
        "    total_loss = 0.0\n",
        "    train_correct = 0\n",
        "    total_train_samples = 0\n",
        "\n",
        "    for images, labels in train_loader:\n",
        "        images = images.cuda()\n",
        "        images = images / 255.\n",
        "        labels = labels.cuda()\n",
        "        optimizer.zero_grad()\n",
        "        outputs = model(images)\n",
        "\n",
        "        labels = labels.long()\n",
        "\n",
        "        loss = criterion(outputs, labels)\n",
        "        loss.backward()\n",
        "        optimizer.step()\n",
        "        total_loss += loss.item()\n",
        "\n",
        "        train_predicted = outputs.argmax(-1)\n",
        "        train_correct += (train_predicted.float() == labels).sum().item()\n",
        "        total_train_samples += labels.size(0)\n",
        "\n",
        "    avg_train_loss = total_loss / len(train_loader)\n",
        "    train_accuracy = 100. * train_correct / total_train_samples\n",
        "\n",
        "    # Validation\n",
        "    model.eval()\n",
        "    total_val_loss = 0.0\n",
        "    correct = 0\n",
        "    total = 0\n",
        "    with torch.no_grad():\n",
        "        for images, labels in val_loader:\n",
        "            images = images.cuda()\n",
        "            images = images / 255.\n",
        "            labels = labels.cuda()\n",
        "            outputs = model(images)\n",
        "\n",
        "            labels = labels.long()\n",
        "\n",
        "            loss = criterion(outputs, labels)\n",
        "            total_val_loss += loss.item()\n",
        "\n",
        "            predicted = outputs.argmax(-1)\n",
        "            correct += (predicted.float() == labels).sum().item()\n",
        "            total += labels.size(0)\n",
        "\n",
        "    avg_val_loss = total_val_loss / len(val_loader)\n",
        "    val_accuracy = 100. * correct / total\n",
        "\n",
        "    # test\n",
        "    model.eval()\n",
        "    total_test_loss = 0.0\n",
        "    correct = 0\n",
        "    total = 0\n",
        "    with torch.no_grad():\n",
        "        for images, labels in test_loader:\n",
        "            images = images.cuda()\n",
        "            images = images / 255.\n",
        "            labels = labels.cuda()\n",
        "            outputs = model(images)\n",
        "\n",
        "            labels = labels.long()\n",
        "\n",
        "            loss = criterion(outputs, labels)\n",
        "            total_val_loss += loss.item()\n",
        "\n",
        "            predicted = outputs.argmax(-1)\n",
        "            correct += (predicted.float() == labels).sum().item()\n",
        "            total += labels.size(0)\n",
        "\n",
        "    avg_test_loss = total_test_loss / len(test_loader)\n",
        "    test_accuracy = 100. * correct / total\n",
        "\n",
        "    # Learning rate update\n",
        "    lr_scheduler.step()\n",
        "\n",
        "    # Checkpoint\n",
        "    if avg_val_loss < best_val_loss:\n",
        "        best_val_loss = avg_val_loss\n",
        "\n",
        "    if val_accuracy > best_val_acc:\n",
        "        best_val_acc = val_accuracy\n",
        "        torch.save(model.state_dict(), 'model_classification.pth')\n",
        "\n",
        "    print(f'Epoch {epoch+1}/{epochs}, Train loss: {avg_train_loss:.4f}, Train acc: {train_accuracy:.2f}%, Val loss: {avg_val_loss:.4f}, Val acc: {val_accuracy:.2f}%, Best Val loss: {best_val_loss:.4f} Best Val acc: {best_val_acc:.2f}%')\n",
        "\n",
        "    # Store performance\n",
        "    train_losses.append(avg_train_loss)\n",
        "    train_accuracies.append(train_accuracy)\n",
        "    val_losses.append(avg_val_loss)\n",
        "    val_accuracies.append(val_accuracy)\n",
        "    test_losses.append(avg_test_loss)\n",
        "    test_accuracies.append(test_accuracy)"
      ]
    },
    {
      "cell_type": "markdown",
      "metadata": {
        "id": "pjmYxAJnxc6t"
      },
      "source": [
        "### Visualizing model performance"
      ]
    },
    {
      "cell_type": "code",
      "execution_count": 11,
      "metadata": {
        "id": "pHpS0Q7vxc6t",
        "colab": {
          "base_uri": "https://localhost:8080/",
          "height": 487
        },
        "outputId": "00207fa1-a872-4c35-9cb7-ee3f0ffe10bc"
      },
      "outputs": [
        {
          "output_type": "display_data",
          "data": {
            "text/plain": [
              "<Figure size 1500x500 with 2 Axes>"
            ],
            "image/png": "[encoded data removed]"
          },
          "metadata": {}
        }
      ],
      "source": [
        "import matplotlib.pyplot as plt\n",
        "\n",
        "fig, ax = plt.subplots(1, 2, figsize=(15, 5))\n",
        "\n",
        "# Plotting training and validation accuracy\n",
        "ax[0].plot(train_accuracies)\n",
        "ax[0].plot(val_accuracies)\n",
        "ax[0].plot(test_accuracies)\n",
        "ax[0].set_title('Model Accuracy')\n",
        "ax[0].set_xlabel('Epochs')\n",
        "ax[0].set_ylabel('Accuracy')\n",
        "ax[0].legend(['Train', 'Val','Test'])\n",
        "\n",
        "# Plotting training and validation loss\n",
        "ax[1].plot(train_losses)\n",
        "ax[1].plot(val_losses)\n",
        "ax[1].plot(val_losses)\n",
        "ax[1].set_title('Model Loss')\n",
        "ax[1].set_xlabel('Epochs')\n",
        "ax[1].set_ylabel('Loss')\n",
        "ax[1].legend(['Train', 'Val', 'Test'])\n",
        "\n",
        "plt.show()"
      ]
    },
    {
      "cell_type": "markdown",
      "metadata": {
        "id": "o8Hfpjk14rvw"
      },
      "source": [
        "## D. Evaluating Your Trained Model"
      ]
    },
    {
      "cell_type": "markdown",
      "metadata": {
        "id": "5OPZ-_wk4rvw"
      },
      "source": [
        "### Process Test Dataset"
      ]
    },
    {
      "cell_type": "markdown",
      "metadata": {
        "id": "AKL8-OP74rvw"
      },
      "source": [
        "### Load Trained Model and Evaluate"
      ]
    },
    {
      "cell_type": "code",
      "execution_count": 9,
      "metadata": {
        "colab": {
          "base_uri": "https://localhost:8080/"
        },
        "id": "0PZ2sVvG4rvx",
        "outputId": "77081881-6b56-47fc-ef1c-f71f38fcf87b"
      },
      "outputs": [
        {
          "output_type": "stream",
          "name": "stdout",
          "text": [
            "Test accuracy is 97.0%\n"
          ]
        }
      ],
      "source": [
        "# Load the trained weights\n",
        "model.load_state_dict(torch.load('model_classification.pth'))\n",
        "\n",
        "# Set the model to evaluation mode\n",
        "model.eval()\n",
        "\n",
        "test_correct = 0\n",
        "test_total = 0\n",
        "\n",
        "with torch.no_grad():\n",
        "    for images, labels in test_loader:\n",
        "\n",
        "        images = images.cuda()\n",
        "        images = images / 255.\n",
        "\n",
        "        labels = labels.cuda()\n",
        "        labels = labels.long()\n",
        "\n",
        "        outputs = model(images)\n",
        "\n",
        "        predicted = outputs.argmax(-1)\n",
        "        test_correct += (predicted.float() == labels).sum().item()\n",
        "        test_total += labels.size(0)\n",
        "\n",
        "\n",
        "print(f'Test accuracy is {100. * test_correct / test_total}%')"
      ]
    },
    {
      "cell_type": "code",
      "source": [],
      "metadata": {
        "id": "SAgKFnrDYAG2"
      },
      "execution_count": 9,
      "outputs": []
    }
  ],
  "metadata": {
    "accelerator": "GPU",
    "colab": {
      "gpuType": "T4",
      "provenance": [],
      "include_colab_link": true
    },
    "kernelspec": {
      "display_name": "Python 3",
      "name": "python3"
    },
    "language_info": {
      "codemirror_mode": {
        "name": "ipython",
        "version": 3
      },
      "file_extension": ".py",
      "mimetype": "text/x-python",
      "name": "python",
      "nbconvert_exporter": "python",
      "pygments_lexer": "ipython3",
      "version": "3.8.13"
    },
    "widgets": {
      "application/vnd.jupyter.widget-state+json": {
        "78c4cd3710f1456e8c9e684bb5393202": {
          "model_module": "@jupyter-widgets/controls",
          "model_name": "HBoxModel",
          "model_module_version": "1.5.0",
          "state": {
            "_dom_classes": [],
            "_model_module": "@jupyter-widgets/controls",
            "_model_module_version": "1.5.0",
            "_model_name": "HBoxModel",
            "_view_count": null,
            "_view_module": "@jupyter-widgets/controls",
            "_view_module_version": "1.5.0",
            "_view_name": "HBoxView",
            "box_style": "",
            "children": [
              "IPY_MODEL_fd3dd8934bf147eeb90bde4155d028cc",
              "IPY_MODEL_4762ca0231634c34ae22ffac443f7ad6",
              "IPY_MODEL_558860a211214f7196af00c6e18268a8"
            ],
            "layout": "IPY_MODEL_662ae14707a64af193360b40995c9ced"
          }
        },
        "fd3dd8934bf147eeb90bde4155d028cc": {
          "model_module": "@jupyter-widgets/controls",
          "model_name": "HTMLModel",
          "model_module_version": "1.5.0",
          "state": {
            "_dom_classes": [],
            "_model_module": "@jupyter-widgets/controls",
            "_model_module_version": "1.5.0",
            "_model_name": "HTMLModel",
            "_view_count": null,
            "_view_module": "@jupyter-widgets/controls",
            "_view_module_version": "1.5.0",
            "_view_name": "HTMLView",
            "description": "",
            "description_tooltip": null,
            "layout": "IPY_MODEL_5e5a6d4cc14e4da08f814cf1fea273ba",
            "placeholder": "​",
            "style": "IPY_MODEL_dda1a857474d40a0bd1966273e46bbf4",
            "value": "100%"
          }
        },
        "4762ca0231634c34ae22ffac443f7ad6": {
          "model_module": "@jupyter-widgets/controls",
          "model_name": "FloatProgressModel",
          "model_module_version": "1.5.0",
          "state": {
            "_dom_classes": [],
            "_model_module": "@jupyter-widgets/controls",
            "_model_module_version": "1.5.0",
            "_model_name": "FloatProgressModel",
            "_view_count": null,
            "_view_module": "@jupyter-widgets/controls",
            "_view_module_version": "1.5.0",
            "_view_name": "ProgressView",
            "bar_style": "success",
            "description": "",
            "description_tooltip": null,
            "layout": "IPY_MODEL_11a19c7dc4304af8af5cfc983b8aaa7c",
            "max": 30,
            "min": 0,
            "orientation": "horizontal",
            "style": "IPY_MODEL_464ad9d118754604982d0b8e0abb4008",
            "value": 30
          }
        },
        "558860a211214f7196af00c6e18268a8": {
          "model_module": "@jupyter-widgets/controls",
          "model_name": "HTMLModel",
          "model_module_version": "1.5.0",
          "state": {
            "_dom_classes": [],
            "_model_module": "@jupyter-widgets/controls",
            "_model_module_version": "1.5.0",
            "_model_name": "HTMLModel",
            "_view_count": null,
            "_view_module": "@jupyter-widgets/controls",
            "_view_module_version": "1.5.0",
            "_view_name": "HTMLView",
            "description": "",
            "description_tooltip": null,
            "layout": "IPY_MODEL_75e4f2c93c494cbca62cc11096988051",
            "placeholder": "​",
            "style": "IPY_MODEL_63a4fda099dd4dcda6edb0d4a5b99fc7",
            "value": " 30/30 [03:25&lt;00:00,  6.92s/it]"
          }
        },
        "662ae14707a64af193360b40995c9ced": {
          "model_module": "@jupyter-widgets/base",
          "model_name": "LayoutModel",
          "model_module_version": "1.2.0",
          "state": {
            "_model_module": "@jupyter-widgets/base",
            "_model_module_version": "1.2.0",
            "_model_name": "LayoutModel",
            "_view_count": null,
            "_view_module": "@jupyter-widgets/base",
            "_view_module_version": "1.2.0",
            "_view_name": "LayoutView",
            "align_content": null,
            "align_items": null,
            "align_self": null,
            "border": null,
            "bottom": null,
            "display": null,
            "flex": null,
            "flex_flow": null,
            "grid_area": null,
            "grid_auto_columns": null,
            "grid_auto_flow": null,
            "grid_auto_rows": null,
            "grid_column": null,
            "grid_gap": null,
            "grid_row": null,
            "grid_template_areas": null,
            "grid_template_columns": null,
            "grid_template_rows": null,
            "height": null,
            "justify_content": null,
            "justify_items": null,
            "left": null,
            "margin": null,
            "max_height": null,
            "max_width": null,
            "min_height": null,
            "min_width": null,
            "object_fit": null,
            "object_position": null,
            "order": null,
            "overflow": null,
            "overflow_x": null,
            "overflow_y": null,
            "padding": null,
            "right": null,
            "top": null,
            "visibility": null,
            "width": null
          }
        },
        "5e5a6d4cc14e4da08f814cf1fea273ba": {
          "model_module": "@jupyter-widgets/base",
          "model_name": "LayoutModel",
          "model_module_version": "1.2.0",
          "state": {
            "_model_module": "@jupyter-widgets/base",
            "_model_module_version": "1.2.0",
            "_model_name": "LayoutModel",
            "_view_count": null,
            "_view_module": "@jupyter-widgets/base",
            "_view_module_version": "1.2.0",
            "_view_name": "LayoutView",
            "align_content": null,
            "align_items": null,
            "align_self": null,
            "border": null,
            "bottom": null,
            "display": null,
            "flex": null,
            "flex_flow": null,
            "grid_area": null,
            "grid_auto_columns": null,
            "grid_auto_flow": null,
            "grid_auto_rows": null,
            "grid_column": null,
            "grid_gap": null,
            "grid_row": null,
            "grid_template_areas": null,
            "grid_template_columns": null,
            "grid_template_rows": null,
            "height": null,
            "justify_content": null,
            "justify_items": null,
            "left": null,
            "margin": null,
            "max_height": null,
            "max_width": null,
            "min_height": null,
            "min_width": null,
            "object_fit": null,
            "object_position": null,
            "order": null,
            "overflow": null,
            "overflow_x": null,
            "overflow_y": null,
            "padding": null,
            "right": null,
            "top": null,
            "visibility": null,
            "width": null
          }
        },
        "dda1a857474d40a0bd1966273e46bbf4": {
          "model_module": "@jupyter-widgets/controls",
          "model_name": "DescriptionStyleModel",
          "model_module_version": "1.5.0",
          "state": {
            "_model_module": "@jupyter-widgets/controls",
            "_model_module_version": "1.5.0",
            "_model_name": "DescriptionStyleModel",
            "_view_count": null,
            "_view_module": "@jupyter-widgets/base",
            "_view_module_version": "1.2.0",
            "_view_name": "StyleView",
            "description_width": ""
          }
        },
        "11a19c7dc4304af8af5cfc983b8aaa7c": {
          "model_module": "@jupyter-widgets/base",
          "model_name": "LayoutModel",
          "model_module_version": "1.2.0",
          "state": {
            "_model_module": "@jupyter-widgets/base",
            "_model_module_version": "1.2.0",
            "_model_name": "LayoutModel",
            "_view_count": null,
            "_view_module": "@jupyter-widgets/base",
            "_view_module_version": "1.2.0",
            "_view_name": "LayoutView",
            "align_content": null,
            "align_items": null,
            "align_self": null,
            "border": null,
            "bottom": null,
            "display": null,
            "flex": null,
            "flex_flow": null,
            "grid_area": null,
            "grid_auto_columns": null,
            "grid_auto_flow": null,
            "grid_auto_rows": null,
            "grid_column": null,
            "grid_gap": null,
            "grid_row": null,
            "grid_template_areas": null,
            "grid_template_columns": null,
            "grid_template_rows": null,
            "height": null,
            "justify_content": null,
            "justify_items": null,
            "left": null,
            "margin": null,
            "max_height": null,
            "max_width": null,
            "min_height": null,
            "min_width": null,
            "object_fit": null,
            "object_position": null,
            "order": null,
            "overflow": null,
            "overflow_x": null,
            "overflow_y": null,
            "padding": null,
            "right": null,
            "top": null,
            "visibility": null,
            "width": null
          }
        },
        "464ad9d118754604982d0b8e0abb4008": {
          "model_module": "@jupyter-widgets/controls",
          "model_name": "ProgressStyleModel",
          "model_module_version": "1.5.0",
          "state": {
            "_model_module": "@jupyter-widgets/controls",
            "_model_module_version": "1.5.0",
            "_model_name": "ProgressStyleModel",
            "_view_count": null,
            "_view_module": "@jupyter-widgets/base",
            "_view_module_version": "1.2.0",
            "_view_name": "StyleView",
            "bar_color": null,
            "description_width": ""
          }
        },
        "75e4f2c93c494cbca62cc11096988051": {
          "model_module": "@jupyter-widgets/base",
          "model_name": "LayoutModel",
          "model_module_version": "1.2.0",
          "state": {
            "_model_module": "@jupyter-widgets/base",
            "_model_module_version": "1.2.0",
            "_model_name": "LayoutModel",
            "_view_count": null,
            "_view_module": "@jupyter-widgets/base",
            "_view_module_version": "1.2.0",
            "_view_name": "LayoutView",
            "align_content": null,
            "align_items": null,
            "align_self": null,
            "border": null,
            "bottom": null,
            "display": null,
            "flex": null,
            "flex_flow": null,
            "grid_area": null,
            "grid_auto_columns": null,
            "grid_auto_flow": null,
            "grid_auto_rows": null,
            "grid_column": null,
            "grid_gap": null,
            "grid_row": null,
            "grid_template_areas": null,
            "grid_template_columns": null,
            "grid_template_rows": null,
            "height": null,
            "justify_content": null,
            "justify_items": null,
            "left": null,
            "margin": null,
            "max_height": null,
            "max_width": null,
            "min_height": null,
            "min_width": null,
            "object_fit": null,
            "object_position": null,
            "order": null,
            "overflow": null,
            "overflow_x": null,
            "overflow_y": null,
            "padding": null,
            "right": null,
            "top": null,
            "visibility": null,
            "width": null
          }
        },
        "63a4fda099dd4dcda6edb0d4a5b99fc7": {
          "model_module": "@jupyter-widgets/controls",
          "model_name": "DescriptionStyleModel",
          "model_module_version": "1.5.0",
          "state": {
            "_model_module": "@jupyter-widgets/controls",
            "_model_module_version": "1.5.0",
            "_model_name": "DescriptionStyleModel",
            "_view_count": null,
            "_view_module": "@jupyter-widgets/base",
            "_view_module_version": "1.2.0",
            "_view_name": "StyleView",
            "description_width": ""
          }
        }
      }
    }
  },
  "nbformat": 4,
  "nbformat_minor": 0
}