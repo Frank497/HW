{
  "cells": [
    {
      "cell_type": "markdown",
      "metadata": {
        "id": "view-in-github",
        "colab_type": "text"
      },
      "source": [
        "<a href=\"https://colab.research.google.com/github/Frank497/NTHU_2023_DLBOI_HW/blob/main/hw3/hw3_report.ipynb\" target=\"_parent\"><img src=\"https://colab.research.google.com/assets/colab-badge.svg\" alt=\"Open In Colab\"/></a>"
      ]
    },
    {
      "cell_type": "markdown",
      "metadata": {
        "id": "Li0bVCTuxc6n"
      },
      "source": [
        "<div align=\"center\">\n",
        "\n",
        "# National Tsing Hua University\n",
        "\n",
        "### Fall 2023\n",
        "\n",
        "#### 11210IPT 553000\n",
        "\n",
        "#### Deep Learning in Biomedical Optical Imaging\n",
        "\n",
        "## Lab 4: Build a Convolution Neural Network\n",
        "\n",
        "</div>\n"
      ]
    },
    {
      "cell_type": "code",
      "execution_count": 1,
      "metadata": {
        "id": "mGJcRwdzM7pS",
        "colab": {
          "base_uri": "https://localhost:8080/"
        },
        "outputId": "c98d3e97-fd49-4470-91d2-cff030830637"
      },
      "outputs": [
        {
          "output_type": "stream",
          "name": "stdout",
          "text": [
            "--2023-10-28 07:40:52--  https://raw.githubusercontent.com/TacoXDD/homeworks/master/dataset/train/normal.npy\n",
            "Resolving raw.githubusercontent.com (raw.githubusercontent.com)... 185.199.111.133, 185.199.109.133, 185.199.108.133, ...\n",
            "Connecting to raw.githubusercontent.com (raw.githubusercontent.com)|185.199.111.133|:443... connected.\n",
            "HTTP request sent, awaiting response... 200 OK\n",
            "Length: 65536128 (62M) [application/octet-stream]\n",
            "Saving to: ‘normal.npy’\n",
            "\n",
            "normal.npy          100%[===================>]  62.50M   230MB/s    in 0.3s    \n",
            "\n",
            "2023-10-28 07:40:53 (230 MB/s) - ‘normal.npy’ saved [65536128/65536128]\n",
            "\n",
            "--2023-10-28 07:40:53--  https://raw.githubusercontent.com/TacoXDD/homeworks/master/dataset/train/pneumonia.npy\n",
            "Resolving raw.githubusercontent.com (raw.githubusercontent.com)... 185.199.110.133, 185.199.109.133, 185.199.108.133, ...\n",
            "Connecting to raw.githubusercontent.com (raw.githubusercontent.com)|185.199.110.133|:443... connected.\n",
            "HTTP request sent, awaiting response... 200 OK\n",
            "Length: 65536128 (62M) [application/octet-stream]\n",
            "Saving to: ‘pneumonia.npy’\n",
            "\n",
            "pneumonia.npy       100%[===================>]  62.50M   223MB/s    in 0.3s    \n",
            "\n",
            "2023-10-28 07:40:55 (223 MB/s) - ‘pneumonia.npy’ saved [65536128/65536128]\n",
            "\n"
          ]
        }
      ],
      "source": [
        "# # Download dataset\n",
        "!wget https://raw.githubusercontent.com/TacoXDD/homeworks/master/dataset/train/normal.npy\n",
        "!wget https://raw.githubusercontent.com/TacoXDD/homeworks/master/dataset/train/pneumonia.npy"
      ]
    },
    {
      "cell_type": "markdown",
      "metadata": {
        "id": "w-1PsC--M7pT"
      },
      "source": [
        "## A. Data Loading and Preprocessing\n",
        "\n",
        "In Convolutional Neural Networks (CNNs), the convolution operation expects the input to have a specific shape, typically denoted as `[batch_size, channels, height, width]`. The \"channels\" dimension refers to the number of input channels (or depth) of the input data.\n",
        "\n",
        "For standard RGB images, this channels value is 3 (for red, green, and blue). For grayscale images, there's only one channel. For more specialized data, there could be more channels. For example, medical imaging modalities like MRI or CT can sometimes have multiple channels representing different types of scans or different views of the same scan.\n",
        "\n",
        "When working with data that doesn't naturally have a channels dimension (e.g., plain grayscale image arrays that are just `[height, width]`), you need to explicitly add a channels dimension to match the expected input format of the CNN. This is done using `.unsqueeze(1)` which adds an additional dimension at the 1st position (0-indexed), converting a shape like `[batch_size, height, width]` to `[batch_size, 1, height, width]`. The \"1\" here indicates a single channel.\n"
      ]
    },
    {
      "cell_type": "code",
      "execution_count": 2,
      "metadata": {
        "id": "oScQ0GG6xc6r",
        "colab": {
          "base_uri": "https://localhost:8080/"
        },
        "outputId": "4e99b46e-ea98-43af-bd89-65cce36d1f40"
      },
      "outputs": [
        {
          "output_type": "stream",
          "name": "stdout",
          "text": [
            "Shape of abnormal_scans: (1000, 256, 256)\n",
            "Shape of normal_scans: (1000, 256, 256)\n",
            "Number of samples in train and validation are 1600 and 400.\n",
            "X_train: max value is 255.0, min value is 0.0, data type is torch.float32.\n"
          ]
        }
      ],
      "source": [
        "import torch\n",
        "from torch.utils.data import DataLoader, TensorDataset, random_split\n",
        "\n",
        "import numpy as np\n",
        "\n",
        "# Load Dataset\n",
        "abnormal_scans = np.load('pneumonia.npy')\n",
        "normal_scans = np.load('normal.npy')\n",
        "\n",
        "print(f'Shape of abnormal_scans: {abnormal_scans.shape}')\n",
        "print(f'Shape of normal_scans: {normal_scans.shape}')\n",
        "\n",
        "# For the data having presence of pneumonia assign 1, for the normal ones assign 0.\n",
        "\n",
        "abnormal_labels = np.ones((abnormal_scans.shape[0],))\n",
        "normal_labels = np.zeros((normal_scans.shape[0],))\n",
        "\n",
        "split_point = 800\n",
        "\n",
        "x_train = np.concatenate((abnormal_scans[:split_point], normal_scans[:split_point]), axis=0)\n",
        "y_train = np.concatenate((abnormal_labels[:split_point], normal_labels[:split_point]), axis=0)\n",
        "x_val = np.concatenate((abnormal_scans[split_point:], normal_scans[split_point:]), axis=0)\n",
        "y_val = np.concatenate((abnormal_labels[split_point:], normal_labels[split_point:]), axis=0)\n",
        "\n",
        "# Convert to PyTorch tensors\n",
        "x_train = torch.from_numpy(x_train).float().unsqueeze(1)\n",
        "y_train = torch.from_numpy(y_train).long()\n",
        "x_val = torch.from_numpy(x_val).float().unsqueeze(1)\n",
        "y_val = torch.from_numpy(y_val).long()\n",
        "\n",
        "# Create datasets\n",
        "train_dataset = TensorDataset(x_train, y_train)\n",
        "val_dataset = TensorDataset(x_val, y_val)\n",
        "\n",
        "# Create dataloaders\n",
        "train_loader = DataLoader(train_dataset, batch_size=32, shuffle=True)\n",
        "val_loader = DataLoader(val_dataset, batch_size=32, shuffle=False)\n",
        "\n",
        "print(f'Number of samples in train and validation are {len(train_loader.dataset)} and {len(val_loader.dataset)}.')\n",
        "print(f'X_train: max value is {x_train.max().item()}, min value is {x_train.min().item()}, data type is {x_train.dtype}.')"
      ]
    },
    {
      "cell_type": "markdown",
      "metadata": {
        "id": "oaLGtT28xc6s"
      },
      "source": [
        "## B. Defining Neural Networks\n",
        "\n",
        "### 1. Use the **Class**\n",
        "\n",
        "In PyTorch, we define our custom neural network architectures by subclassing the `nn.Module` class. This gives our neural network all the functionality it needs to work with PyTorch's other utilities and keeps our implementation organized.\n",
        "\n",
        "- Neural networks are defined by subclassing `nn.Module`.\n",
        "- The layers of the neural network are initialized in the `__init__` method.\n",
        "- The forward pass operations on input data are defined in the `forward` method.\n",
        "\n",
        "It's worth noting that while we only define the forward pass, PyTorch will automatically derive the backward pass for us, which is used during training to update the model's weights.\""
      ]
    },
    {
      "cell_type": "markdown",
      "metadata": {
        "id": "8CYWiCu74G4B"
      },
      "source": [
        "```python\n",
        "import torch.nn as nn\n",
        "import torch.nn.functional as F\n",
        "\n",
        "# model = nn.Sequential(\n",
        "#     nn.Flatten(),\n",
        "#     nn.Linear(256*256*1, 32), # 1st FC\n",
        "#     nn.ReLU(),\n",
        "#     nn.Linear(32, 32),        # 2nd FC\n",
        "#     nn.ReLU(),\n",
        "#     nn.Linear(32, 32),        # 3rd FC\n",
        "#     nn.ReLU(),\n",
        "#     nn.Linear(32, 1)          # 4th FC\n",
        "# ).cuda()\n",
        "\n",
        "class LinearModel(nn.Module):\n",
        "    def __init__(self):\n",
        "        super().__init__()\n",
        "        self.flatten = nn.Flatten()\n",
        "        self.fc1 = nn.Linear(256*256*1, 32)\n",
        "        self.fc2 = nn.Linear(32, 32)\n",
        "        self.fc3 = nn.Linear(32, 32)\n",
        "        self.fc4 = nn.Linear(32, 1)\n",
        "\n",
        "    def forward(self, x):\n",
        "        x = self.flatten(x)\n",
        "        x = F.relu(self.fc1(x))\n",
        "        x = F.relu(self.fc2(x))\n",
        "        x = F.relu(self.fc3(x))\n",
        "        return self.fc4(x)\n",
        "\n",
        "model = LinearModel()\n",
        "print(model)\n",
        "```\n",
        "\n",
        "```\n",
        "LinearModel(\n",
        "  (flatten): Flatten(start_dim=1, end_dim=-1)\n",
        "  (fc1): Linear(in_features=65536, out_features=32, bias=True)\n",
        "  (fc2): Linear(in_features=32, out_features=32, bias=True)\n",
        "  (fc3): Linear(in_features=32, out_features=32, bias=True)\n",
        "  (fc4): Linear(in_features=32, out_features=1, bias=True)\n",
        ")\n",
        "```"
      ]
    },
    {
      "cell_type": "markdown",
      "metadata": {
        "id": "KrTgrNIP4G4B"
      },
      "source": [
        "### 2. ann2cnn\n",
        "\n",
        "To transition a model from an ANN to a CNN using `nn.Conv2d` layers, we make the following changes:\n",
        "\n",
        "- Replace `nn.Linear` layers with `nn.Conv2d` layers for the initial layers.\n",
        "- Add pooling layers after convolutional layers for spatial dimension reduction.\n",
        "- Introduce a flattening step before transitioning to fully connected layers.\n",
        "- Adjust the `forward` method to handle the convolutional and pooling operations and reshaping."
      ]
    },
    {
      "cell_type": "code",
      "execution_count": 3,
      "metadata": {
        "id": "_Bl7dhiC4G4C"
      },
      "outputs": [],
      "source": [
        "import torch.nn as nn\n",
        "import torch.nn.functional as F\n",
        "\n",
        "class ConvModel(nn.Module):\n",
        "    def __init__(self):\n",
        "        super().__init__()\n",
        "\n",
        "        # 1 channel, and using 3x3 kernels for simplicity, 256*256\n",
        "        self.conv1 = nn.Conv2d(1, 32, kernel_size=3, stride=1, padding='same')\n",
        "        self.pool1 = nn.MaxPool2d(kernel_size=2, stride=2) # 128*128\n",
        "\n",
        "        self.conv2 = nn.Conv2d(32, 32, kernel_size=3, stride=1, padding='same') # 128*128\n",
        "        self.pool2 = nn.MaxPool2d(kernel_size=2, stride=2) # 64*64\n",
        "\n",
        "        self.conv3 = nn.Conv2d(32, 32, kernel_size=3, stride=1, padding='same') # 64*64\n",
        "        self.pool3 = nn.MaxPool2d(kernel_size=2, stride=2) # 32*32\n",
        "\n",
        "        # Adjust flattened dimensions based on the output size of your last pooling layer\n",
        "        flattened_dim = 32 * 32 * 32\n",
        "\n",
        "        self.fc1 = nn.Linear(flattened_dim, 32)\n",
        "        self.fc2 = nn.Linear(32, 1)\n",
        "\n",
        "    def forward(self, x):\n",
        "        x = F.relu(self.conv1(x))\n",
        "        x = self.pool1(x)\n",
        "\n",
        "        x = F.relu(self.conv2(x))\n",
        "        x = self.pool2(x)\n",
        "\n",
        "        x = F.relu(self.conv3(x))\n",
        "        x = self.pool3(x)\n",
        "\n",
        "        # Flatten the output for the fully connected layers\n",
        "        x = x.reshape(x.size(0), -1)  # x.size(0) is the batch size\n",
        "\n",
        "        x = F.relu(self.fc1(x))\n",
        "        return self.fc2(x)\n"
      ]
    },
    {
      "cell_type": "code",
      "source": [
        "class LinearModel(nn.Module):\n",
        "    def __init__(self):\n",
        "        super().__init__()\n",
        "        self.flatten = nn.Flatten()\n",
        "        self.fc1 = nn.Linear(256*256*1, 32)\n",
        "        self.fc2 = nn.Linear(32, 32)\n",
        "        self.fc3 = nn.Linear(32, 32)\n",
        "        self.fc4 = nn.Linear(32, 1)\n",
        "\n",
        "    def forward(self, x):\n",
        "        x = self.flatten(x)\n",
        "        x = F.relu(self.fc1(x))\n",
        "        x = F.relu(self.fc2(x))\n",
        "        x = F.relu(self.fc3(x))\n",
        "        return self.fc4(x)"
      ],
      "metadata": {
        "id": "t_4FlD1VVXrE"
      },
      "execution_count": 4,
      "outputs": []
    },
    {
      "cell_type": "code",
      "execution_count": 11,
      "metadata": {
        "id": "COOgSPET4G4C"
      },
      "outputs": [],
      "source": [
        "class ConvGAP(nn.Module):\n",
        "    def __init__(self):\n",
        "        super().__init__()\n",
        "\n",
        "        self.net = nn.Sequential(\n",
        "            nn.Conv2d(1, 32, kernel_size=3, stride=1, padding='same') , #256*256\n",
        "            nn.ReLU(),\n",
        "            nn.MaxPool2d(kernel_size=4, stride=4), # 64*64\n",
        "            nn.Conv2d(32, 32, kernel_size=3, stride=1, padding='same'), # 64*64\n",
        "            nn.ReLU(),\n",
        "            nn.MaxPool2d(kernel_size=4, stride=4), # 16*16\n",
        "            nn.Conv2d(32, 32, kernel_size=3, stride=1, padding='same'), # 16*16\n",
        "            nn.ReLU(),\n",
        "            nn.MaxPool2d(kernel_size=4, stride=4), # 4*4\n",
        "\n",
        "            nn.AdaptiveAvgPool2d(1),\n",
        "            nn.Flatten(),\n",
        "            nn.Linear(16*16*32, 1)\n",
        "        )\n",
        "\n",
        "    def forward(self, x):\n",
        "\n",
        "        x = self.net(x)\n",
        "        return x\n"
      ]
    },
    {
      "cell_type": "markdown",
      "metadata": {
        "id": "nvLTU-IfZLqn"
      },
      "source": [
        "## C. Training the Neural Network\n",
        "\n",
        "`model = model.cuda()` moves the model's parameters and buffers to the GPU memory."
      ]
    },
    {
      "cell_type": "code",
      "execution_count": 12,
      "metadata": {
        "id": "45ol4lpVxc6t",
        "colab": {
          "base_uri": "https://localhost:8080/",
          "height": 1000,
          "referenced_widgets": [
            "d164ff02a75a4653b199f76ad79414dd",
            "aeb2b78e969e4ad694f4c81c57e8b20f",
            "52bad6702bc14f3cb0cf1ed9d2eb6565",
            "61704244a9544398819685879e51d432",
            "cc1041c970ed417e8829effe7659428d",
            "10901207725c469784c5e77ef297682b",
            "36ba61b021f446c8b9de866881ee52ad",
            "2bc0fbd18bc643e39e39c20f1bd8a9d0",
            "5f9f59bc49894707a4cb432553ee411a",
            "89cb08e2ade94ce9b24ca35bbdc9392e",
            "1a1f275d8a974a6188994b9dde4f569a"
          ]
        },
        "outputId": "e3e7089a-aa24-44ba-f236-a9c327b6c203"
      },
      "outputs": [
        {
          "output_type": "stream",
          "name": "stdout",
          "text": [
            "ConvGAP(\n",
            "  (net): Sequential(\n",
            "    (0): Conv2d(1, 32, kernel_size=(3, 3), stride=(1, 1), padding=same)\n",
            "    (1): ReLU()\n",
            "    (2): MaxPool2d(kernel_size=2, stride=2, padding=0, dilation=1, ceil_mode=False)\n",
            "    (3): Conv2d(32, 32, kernel_size=(3, 3), stride=(1, 1), padding=same)\n",
            "    (4): ReLU()\n",
            "    (5): MaxPool2d(kernel_size=2, stride=2, padding=0, dilation=1, ceil_mode=False)\n",
            "    (6): Conv2d(32, 32, kernel_size=(3, 3), stride=(1, 1), padding=same)\n",
            "    (7): ReLU()\n",
            "    (8): MaxPool2d(kernel_size=2, stride=2, padding=0, dilation=1, ceil_mode=False)\n",
            "    (9): AdaptiveAvgPool2d(output_size=(16, 16))\n",
            "    (10): Flatten(start_dim=1, end_dim=-1)\n",
            "    (11): Linear(in_features=8192, out_features=1, bias=True)\n",
            "  )\n",
            ")\n"
          ]
        },
        {
          "output_type": "display_data",
          "data": {
            "text/plain": [
              "  0%|          | 0/50 [00:00<?, ?it/s]"
            ],
            "application/vnd.jupyter.widget-view+json": {
              "version_major": 2,
              "version_minor": 0,
              "model_id": "d164ff02a75a4653b199f76ad79414dd"
            }
          },
          "metadata": {}
        },
        {
          "output_type": "stream",
          "name": "stdout",
          "text": [
            "Epoch 1/50, Train loss: 0.6275, Train acc: 61.00%, Val loss: 0.3074, Val acc: 88.00%, Best Val loss: 0.3074 Best Val acc: 88.00%\n",
            "Epoch 2/50, Train loss: 0.2815, Train acc: 87.50%, Val loss: 0.2264, Val acc: 91.25%, Best Val loss: 0.2264 Best Val acc: 91.25%\n",
            "Epoch 3/50, Train loss: 0.1916, Train acc: 93.00%, Val loss: 0.1878, Val acc: 93.75%, Best Val loss: 0.1878 Best Val acc: 93.75%\n",
            "Epoch 4/50, Train loss: 0.1742, Train acc: 92.88%, Val loss: 0.1751, Val acc: 94.25%, Best Val loss: 0.1751 Best Val acc: 94.25%\n",
            "Epoch 5/50, Train loss: 0.1602, Train acc: 94.81%, Val loss: 0.1670, Val acc: 93.75%, Best Val loss: 0.1670 Best Val acc: 94.25%\n",
            "Epoch 6/50, Train loss: 0.1528, Train acc: 94.06%, Val loss: 0.2140, Val acc: 92.25%, Best Val loss: 0.1670 Best Val acc: 94.25%\n",
            "Epoch 7/50, Train loss: 0.1246, Train acc: 95.19%, Val loss: 0.2367, Val acc: 92.25%, Best Val loss: 0.1670 Best Val acc: 94.25%\n",
            "Epoch 8/50, Train loss: 0.1325, Train acc: 95.12%, Val loss: 0.1559, Val acc: 94.25%, Best Val loss: 0.1559 Best Val acc: 94.25%\n",
            "Epoch 9/50, Train loss: 0.1285, Train acc: 96.12%, Val loss: 0.2226, Val acc: 92.25%, Best Val loss: 0.1559 Best Val acc: 94.25%\n",
            "Epoch 10/50, Train loss: 0.1186, Train acc: 95.75%, Val loss: 0.1654, Val acc: 93.00%, Best Val loss: 0.1559 Best Val acc: 94.25%\n",
            "Epoch 11/50, Train loss: 0.0930, Train acc: 96.50%, Val loss: 0.1525, Val acc: 94.00%, Best Val loss: 0.1525 Best Val acc: 94.25%\n",
            "Epoch 12/50, Train loss: 0.0918, Train acc: 96.62%, Val loss: 0.1515, Val acc: 94.25%, Best Val loss: 0.1515 Best Val acc: 94.25%\n",
            "Epoch 13/50, Train loss: 0.0896, Train acc: 96.75%, Val loss: 0.1495, Val acc: 94.00%, Best Val loss: 0.1495 Best Val acc: 94.25%\n",
            "Epoch 14/50, Train loss: 0.0884, Train acc: 96.50%, Val loss: 0.1472, Val acc: 94.00%, Best Val loss: 0.1472 Best Val acc: 94.25%\n",
            "Epoch 15/50, Train loss: 0.0881, Train acc: 96.88%, Val loss: 0.1476, Val acc: 94.00%, Best Val loss: 0.1472 Best Val acc: 94.25%\n",
            "Epoch 16/50, Train loss: 0.0875, Train acc: 96.62%, Val loss: 0.1464, Val acc: 94.50%, Best Val loss: 0.1464 Best Val acc: 94.50%\n",
            "Epoch 17/50, Train loss: 0.0882, Train acc: 96.88%, Val loss: 0.1557, Val acc: 94.00%, Best Val loss: 0.1464 Best Val acc: 94.50%\n",
            "Epoch 18/50, Train loss: 0.0869, Train acc: 97.06%, Val loss: 0.1482, Val acc: 94.25%, Best Val loss: 0.1464 Best Val acc: 94.50%\n",
            "Epoch 19/50, Train loss: 0.0871, Train acc: 96.81%, Val loss: 0.1489, Val acc: 94.00%, Best Val loss: 0.1464 Best Val acc: 94.50%\n",
            "Epoch 20/50, Train loss: 0.0881, Train acc: 96.69%, Val loss: 0.1484, Val acc: 94.00%, Best Val loss: 0.1464 Best Val acc: 94.50%\n",
            "Epoch 21/50, Train loss: 0.0842, Train acc: 97.00%, Val loss: 0.1476, Val acc: 94.25%, Best Val loss: 0.1464 Best Val acc: 94.50%\n",
            "Epoch 22/50, Train loss: 0.0838, Train acc: 97.00%, Val loss: 0.1472, Val acc: 94.25%, Best Val loss: 0.1464 Best Val acc: 94.50%\n",
            "Epoch 23/50, Train loss: 0.0837, Train acc: 96.94%, Val loss: 0.1471, Val acc: 94.00%, Best Val loss: 0.1464 Best Val acc: 94.50%\n",
            "Epoch 24/50, Train loss: 0.0834, Train acc: 97.00%, Val loss: 0.1474, Val acc: 94.00%, Best Val loss: 0.1464 Best Val acc: 94.50%\n",
            "Epoch 25/50, Train loss: 0.0836, Train acc: 96.88%, Val loss: 0.1479, Val acc: 94.25%, Best Val loss: 0.1464 Best Val acc: 94.50%\n",
            "Epoch 26/50, Train loss: 0.0834, Train acc: 97.06%, Val loss: 0.1467, Val acc: 94.25%, Best Val loss: 0.1464 Best Val acc: 94.50%\n",
            "Epoch 27/50, Train loss: 0.0834, Train acc: 96.94%, Val loss: 0.1467, Val acc: 94.25%, Best Val loss: 0.1464 Best Val acc: 94.50%\n",
            "Epoch 28/50, Train loss: 0.0832, Train acc: 97.00%, Val loss: 0.1473, Val acc: 94.00%, Best Val loss: 0.1464 Best Val acc: 94.50%\n",
            "Epoch 29/50, Train loss: 0.0831, Train acc: 96.94%, Val loss: 0.1464, Val acc: 94.25%, Best Val loss: 0.1464 Best Val acc: 94.50%\n",
            "Epoch 30/50, Train loss: 0.0833, Train acc: 97.00%, Val loss: 0.1477, Val acc: 94.25%, Best Val loss: 0.1464 Best Val acc: 94.50%\n",
            "Epoch 31/50, Train loss: 0.0828, Train acc: 97.00%, Val loss: 0.1474, Val acc: 94.25%, Best Val loss: 0.1464 Best Val acc: 94.50%\n",
            "Epoch 32/50, Train loss: 0.0828, Train acc: 96.94%, Val loss: 0.1474, Val acc: 94.25%, Best Val loss: 0.1464 Best Val acc: 94.50%\n",
            "Epoch 33/50, Train loss: 0.0827, Train acc: 96.88%, Val loss: 0.1473, Val acc: 94.00%, Best Val loss: 0.1464 Best Val acc: 94.50%\n",
            "Epoch 34/50, Train loss: 0.0827, Train acc: 96.94%, Val loss: 0.1472, Val acc: 94.00%, Best Val loss: 0.1464 Best Val acc: 94.50%\n",
            "Epoch 35/50, Train loss: 0.0827, Train acc: 96.94%, Val loss: 0.1472, Val acc: 94.00%, Best Val loss: 0.1464 Best Val acc: 94.50%\n",
            "Epoch 36/50, Train loss: 0.0827, Train acc: 96.94%, Val loss: 0.1472, Val acc: 94.00%, Best Val loss: 0.1464 Best Val acc: 94.50%\n",
            "Epoch 37/50, Train loss: 0.0827, Train acc: 97.00%, Val loss: 0.1470, Val acc: 94.00%, Best Val loss: 0.1464 Best Val acc: 94.50%\n",
            "Epoch 38/50, Train loss: 0.0827, Train acc: 97.00%, Val loss: 0.1470, Val acc: 94.00%, Best Val loss: 0.1464 Best Val acc: 94.50%\n",
            "Epoch 39/50, Train loss: 0.0827, Train acc: 97.00%, Val loss: 0.1471, Val acc: 94.00%, Best Val loss: 0.1464 Best Val acc: 94.50%\n",
            "Epoch 40/50, Train loss: 0.0827, Train acc: 96.94%, Val loss: 0.1471, Val acc: 94.00%, Best Val loss: 0.1464 Best Val acc: 94.50%\n",
            "Epoch 41/50, Train loss: 0.0826, Train acc: 97.00%, Val loss: 0.1471, Val acc: 94.00%, Best Val loss: 0.1464 Best Val acc: 94.50%\n",
            "Epoch 42/50, Train loss: 0.0826, Train acc: 97.00%, Val loss: 0.1471, Val acc: 94.00%, Best Val loss: 0.1464 Best Val acc: 94.50%\n",
            "Epoch 43/50, Train loss: 0.0826, Train acc: 97.00%, Val loss: 0.1471, Val acc: 94.00%, Best Val loss: 0.1464 Best Val acc: 94.50%\n",
            "Epoch 44/50, Train loss: 0.0826, Train acc: 97.00%, Val loss: 0.1471, Val acc: 94.00%, Best Val loss: 0.1464 Best Val acc: 94.50%\n",
            "Epoch 45/50, Train loss: 0.0826, Train acc: 97.00%, Val loss: 0.1471, Val acc: 94.00%, Best Val loss: 0.1464 Best Val acc: 94.50%\n",
            "Epoch 46/50, Train loss: 0.0826, Train acc: 97.00%, Val loss: 0.1471, Val acc: 94.00%, Best Val loss: 0.1464 Best Val acc: 94.50%\n",
            "Epoch 47/50, Train loss: 0.0826, Train acc: 97.00%, Val loss: 0.1471, Val acc: 94.00%, Best Val loss: 0.1464 Best Val acc: 94.50%\n",
            "Epoch 48/50, Train loss: 0.0826, Train acc: 97.00%, Val loss: 0.1471, Val acc: 94.00%, Best Val loss: 0.1464 Best Val acc: 94.50%\n",
            "Epoch 49/50, Train loss: 0.0826, Train acc: 97.00%, Val loss: 0.1471, Val acc: 94.00%, Best Val loss: 0.1464 Best Val acc: 94.50%\n",
            "Epoch 50/50, Train loss: 0.0826, Train acc: 97.00%, Val loss: 0.1471, Val acc: 94.00%, Best Val loss: 0.1464 Best Val acc: 94.50%\n",
            "109.3040497303009 11.016673564910889\n"
          ]
        }
      ],
      "source": [
        "import torch.optim as optim\n",
        "from torch.optim.lr_scheduler import CosineAnnealingLR, StepLR\n",
        "from tqdm.auto import tqdm\n",
        "import time\n",
        "\n",
        "\n",
        "train_losses = []\n",
        "val_losses = []\n",
        "train_accuracies = []\n",
        "val_accuracies = []\n",
        "\n",
        "epochs = 50\n",
        "\n",
        "# Change you model here\n",
        "model = ConvGAP()  #taskC\n",
        "#model = ConvModel() #taskAB\n",
        "#model = LinearModel() #taskB\n",
        "print(model)\n",
        "model = model.cuda()\n",
        "\n",
        "best_val_loss = float('inf')\n",
        "best_val_acc = -1\n",
        "\n",
        "criterion = nn.BCEWithLogitsLoss()\n",
        "optimizer = optim.Adam(model.parameters(), lr=1e-3, weight_decay=0.01)\n",
        "# lr_scheduler = CosineAnnealingLR(optimizer, T_max=len(train_loader)*epochs, eta_min=0)\n",
        "lr_scheduler = StepLR(optimizer, step_size=10, gamma=0.1)\n",
        "\n",
        "train_time=0\n",
        "valid_time=0\n",
        "\n",
        "for epoch in tqdm(range(epochs)):\n",
        "    # Training\n",
        "    model.train()\n",
        "    total_loss = 0.0\n",
        "    train_correct = 0\n",
        "    total_train_samples = 0\n",
        "    start = time.time()\n",
        "    for images, labels in train_loader:\n",
        "        images = images.cuda()\n",
        "        images = images / 255.\n",
        "        labels = labels.cuda()\n",
        "        optimizer.zero_grad()\n",
        "        outputs = model(images)\n",
        "\n",
        "        labels = labels.float().unsqueeze(1)\n",
        "\n",
        "        loss = criterion(outputs, labels)\n",
        "        loss.backward()\n",
        "        optimizer.step()\n",
        "        total_loss += loss.item()\n",
        "\n",
        "        train_predicted = torch.sigmoid(outputs) > 0.5\n",
        "        train_correct += (train_predicted.float() == labels).sum().item()\n",
        "        total_train_samples += labels.size(0)\n",
        "\n",
        "    avg_train_loss = total_loss / len(train_loader)\n",
        "    train_accuracy = 100. * train_correct / total_train_samples\n",
        "    train_time+=time.time()-start\n",
        "\n",
        "    # Validation\n",
        "    model.eval()\n",
        "    total_val_loss = 0.0\n",
        "    correct = 0\n",
        "    total = 0\n",
        "    start = time.time()\n",
        "    with torch.no_grad():\n",
        "        for images, labels in val_loader:\n",
        "            images = images.cuda()\n",
        "            images = images / 255.\n",
        "            labels = labels.cuda()\n",
        "            outputs = model(images)\n",
        "\n",
        "            labels = labels.float().unsqueeze(1)\n",
        "\n",
        "            loss = criterion(outputs, labels)\n",
        "            total_val_loss += loss.item()\n",
        "\n",
        "            predicted = torch.sigmoid(outputs) > 0.5\n",
        "            correct += (predicted.float() == labels).sum().item()\n",
        "            total += labels.size(0)\n",
        "\n",
        "    avg_val_loss = total_val_loss / len(val_loader)\n",
        "    val_accuracy = 100. * correct / total\n",
        "\n",
        "    valid_time+=time.time()-start\n",
        "    # Learning rate update\n",
        "    lr_scheduler.step()\n",
        "\n",
        "    # Checkpoint\n",
        "    if avg_val_loss < best_val_loss:\n",
        "        best_val_loss = avg_val_loss\n",
        "        torch.save(model.state_dict(), 'model_classification.pth')\n",
        "\n",
        "    if val_accuracy > best_val_acc:\n",
        "        best_val_acc = val_accuracy\n",
        "\n",
        "    print(f'Epoch {epoch+1}/{epochs}, Train loss: {avg_train_loss:.4f}, Train acc: {train_accuracy:.2f}%, Val loss: {avg_val_loss:.4f}, Val acc: {val_accuracy:.2f}%, Best Val loss: {best_val_loss:.4f} Best Val acc: {best_val_acc:.2f}%')\n",
        "\n",
        "    # Store performance\n",
        "    train_losses.append(avg_train_loss)\n",
        "    train_accuracies.append(train_accuracy)\n",
        "    val_losses.append(avg_val_loss)\n",
        "    val_accuracies.append(val_accuracy)\n",
        "\n",
        "print(train_time,valid_time)"
      ]
    },
    {
      "cell_type": "markdown",
      "metadata": {
        "id": "pjmYxAJnxc6t"
      },
      "source": [
        "### Visualizing model performance"
      ]
    },
    {
      "cell_type": "code",
      "execution_count": 13,
      "metadata": {
        "id": "pHpS0Q7vxc6t",
        "colab": {
          "base_uri": "https://localhost:8080/",
          "height": 487
        },
        "outputId": "5bec4e3d-ed36-4274-b926-f4416a61b595"
      },
      "outputs": [
        {
          "output_type": "display_data",
          "data": {
            "text/plain": [
              "<Figure size 1500x500 with 2 Axes>"
            ],
            "image/png": "[encoded data removed]"
          },
          "metadata": {}
        }
      ],
      "source": [
        "import matplotlib.pyplot as plt\n",
        "\n",
        "fig, ax = plt.subplots(1, 2, figsize=(15, 5))\n",
        "\n",
        "# Plotting training and validation accuracy\n",
        "ax[0].plot(train_accuracies)\n",
        "ax[0].plot(val_accuracies)\n",
        "ax[0].set_title('Model Accuracy')\n",
        "ax[0].set_xlabel('Epochs')\n",
        "ax[0].set_ylabel('Accuracy')\n",
        "ax[0].legend(['Train', 'Val'])\n",
        "\n",
        "# Plotting training and validation loss\n",
        "ax[1].plot(train_losses)\n",
        "ax[1].plot(val_losses)\n",
        "ax[1].set_title('Model Loss')\n",
        "ax[1].set_xlabel('Epochs')\n",
        "ax[1].set_ylabel('Loss')\n",
        "ax[1].legend(['Train', 'Val'])\n",
        "\n",
        "plt.show()"
      ]
    },
    {
      "cell_type": "code",
      "source": [
        "import csv\n",
        "with open('taskC 1_32_32_32 pooling 4_4_4.csv', 'w') as f:\n",
        "\n",
        "    # using csv.writer method from CSV package\n",
        "    write = csv.writer(f)\n",
        "    write.writerow(['train accuracies'])\n",
        "    write.writerow(train_accuracies)\n",
        "    write.writerow(['validation accuracy'])\n",
        "    write.writerow(val_accuracies)\n",
        "    write.writerow(['train loss'])\n",
        "    write.writerow(train_losses)\n",
        "    write.writerow(['validation loss'])\n",
        "    write.writerow(val_losses)\n",
        "    write.writerow(['training time(s)',train_time,'validation time(s)',valid_time])\n"
      ],
      "metadata": {
        "id": "6T4f7VvgEQaF"
      },
      "execution_count": 14,
      "outputs": []
    },
    {
      "cell_type": "markdown",
      "metadata": {
        "id": "68Pcex2H4G4D"
      },
      "source": [
        "## D. Evaluating Your Trained Model"
      ]
    },
    {
      "cell_type": "code",
      "execution_count": null,
      "metadata": {
        "id": "eTDWA3Uh4G4D"
      },
      "outputs": [],
      "source": [
        "# !wget https://raw.githubusercontent.com/TacoXDD/homeworks/master/dataset/test/test_normal.npy\n",
        "# !wget https://raw.githubusercontent.com/TacoXDD/homeworks/master/dataset/test/test_pneumonia.npy"
      ]
    },
    {
      "cell_type": "markdown",
      "metadata": {
        "id": "JWm57S5B4G4D"
      },
      "source": [
        "### Process Test Dataset"
      ]
    },
    {
      "cell_type": "code",
      "execution_count": null,
      "metadata": {
        "id": "muodLYoe4G4E"
      },
      "outputs": [],
      "source": [
        "# test_abnormal = np.load('test_pneumonia.npy')\n",
        "# test_normal = np.load('test_normal.npy')\n",
        "\n",
        "# print(f'Shape of test_abnormal: {test_abnormal.shape}')\n",
        "# print(f'Shape of test_normal: {test_normal.shape}')\n",
        "\n",
        "# # For the data having presence of pneumonia assign 1, for the normal ones assign 0.\n",
        "# test_abnormal_labels = np.ones((test_abnormal.shape[0],))\n",
        "# test_normal_labels = np.zeros((test_normal.shape[0],))\n",
        "\n",
        "# x_test = np.concatenate((test_abnormal, test_normal), axis=0)\n",
        "# y_test = np.concatenate((test_abnormal_labels, test_normal_labels), axis=0)\n",
        "\n",
        "# print(f'Shape of x_test: {x_test.shape}')\n",
        "# print(f'Shape of y_test: {y_test.shape}')\n",
        "\n",
        "# # Convert to PyTorch tensors\n",
        "# x_test = ...\n",
        "# y_test = ...\n",
        "\n",
        "# # Combine the images and labels into a dataset\n",
        "\n",
        "# # Create a dataloader to load data in batches. Set batch size to 32.\n",
        "# test_loader = ..."
      ]
    },
    {
      "cell_type": "markdown",
      "metadata": {
        "id": "YmHV63EL4G4E"
      },
      "source": [
        "### Load Trained Model and Evaluate"
      ]
    },
    {
      "cell_type": "code",
      "execution_count": null,
      "metadata": {
        "id": "2PzVwZG74G4E"
      },
      "outputs": [],
      "source": [
        "# test_correct = 0\n",
        "# test_total = 0\n",
        "\n",
        "# # Declare the model architecture\n",
        "# model = nn.Sequential(\n",
        "#     ...\n",
        "# ).cuda()\n",
        "\n",
        "# # Load the trained weights\n",
        "# model.load_state_dict(...)\n",
        "\n",
        "# # Set the model to evaluation mode\n",
        "# ...\n",
        "\n",
        "# with torch.no_grad():\n",
        "#     for images, labels in ...:\n",
        "\n",
        "#         images = ...\n",
        "#         images = ...\n",
        "\n",
        "#         labels = ...\n",
        "\n",
        "#         outputs = ...\n",
        "\n",
        "#         labels_float = labels.float().unsqueeze(1)  # Convert labels to float and match shape with outputs\n",
        "#         predicted = ...\n",
        "\n",
        "#         test_correct += (predicted.float() == labels_float).sum().item()\n",
        "#         test_total += labels.size(0)\n",
        "\n",
        "# print(f'Test accuracy is {...}%.')"
      ]
    },
    {
      "cell_type": "code",
      "execution_count": null,
      "metadata": {
        "id": "xdTHbtJQ4G4E"
      },
      "outputs": [],
      "source": []
    }
  ],
  "metadata": {
    "accelerator": "GPU",
    "colab": {
      "gpuType": "T4",
      "provenance": [],
      "include_colab_link": true
    },
    "kernelspec": {
      "display_name": "Python 3 (ipykernel)",
      "language": "python",
      "name": "python3"
    },
    "language_info": {
      "codemirror_mode": {
        "name": "ipython",
        "version": 3
      },
      "file_extension": ".py",
      "mimetype": "text/x-python",
      "name": "python",
      "nbconvert_exporter": "python",
      "pygments_lexer": "ipython3",
      "version": "3.8.13"
    },
    "widgets": {
      "application/vnd.jupyter.widget-state+json": {
        "d164ff02a75a4653b199f76ad79414dd": {
          "model_module": "@jupyter-widgets/controls",
          "model_name": "HBoxModel",
          "model_module_version": "1.5.0",
          "state": {
            "_dom_classes": [],
            "_model_module": "@jupyter-widgets/controls",
            "_model_module_version": "1.5.0",
            "_model_name": "HBoxModel",
            "_view_count": null,
            "_view_module": "@jupyter-widgets/controls",
            "_view_module_version": "1.5.0",
            "_view_name": "HBoxView",
            "box_style": "",
            "children": [
              "IPY_MODEL_aeb2b78e969e4ad694f4c81c57e8b20f",
              "IPY_MODEL_52bad6702bc14f3cb0cf1ed9d2eb6565",
              "IPY_MODEL_61704244a9544398819685879e51d432"
            ],
            "layout": "IPY_MODEL_cc1041c970ed417e8829effe7659428d"
          }
        },
        "aeb2b78e969e4ad694f4c81c57e8b20f": {
          "model_module": "@jupyter-widgets/controls",
          "model_name": "HTMLModel",
          "model_module_version": "1.5.0",
          "state": {
            "_dom_classes": [],
            "_model_module": "@jupyter-widgets/controls",
            "_model_module_version": "1.5.0",
            "_model_name": "HTMLModel",
            "_view_count": null,
            "_view_module": "@jupyter-widgets/controls",
            "_view_module_version": "1.5.0",
            "_view_name": "HTMLView",
            "description": "",
            "description_tooltip": null,
            "layout": "IPY_MODEL_10901207725c469784c5e77ef297682b",
            "placeholder": "​",
            "style": "IPY_MODEL_36ba61b021f446c8b9de866881ee52ad",
            "value": "100%"
          }
        },
        "52bad6702bc14f3cb0cf1ed9d2eb6565": {
          "model_module": "@jupyter-widgets/controls",
          "model_name": "FloatProgressModel",
          "model_module_version": "1.5.0",
          "state": {
            "_dom_classes": [],
            "_model_module": "@jupyter-widgets/controls",
            "_model_module_version": "1.5.0",
            "_model_name": "FloatProgressModel",
            "_view_count": null,
            "_view_module": "@jupyter-widgets/controls",
            "_view_module_version": "1.5.0",
            "_view_name": "ProgressView",
            "bar_style": "success",
            "description": "",
            "description_tooltip": null,
            "layout": "IPY_MODEL_2bc0fbd18bc643e39e39c20f1bd8a9d0",
            "max": 50,
            "min": 0,
            "orientation": "horizontal",
            "style": "IPY_MODEL_5f9f59bc49894707a4cb432553ee411a",
            "value": 50
          }
        },
        "61704244a9544398819685879e51d432": {
          "model_module": "@jupyter-widgets/controls",
          "model_name": "HTMLModel",
          "model_module_version": "1.5.0",
          "state": {
            "_dom_classes": [],
            "_model_module": "@jupyter-widgets/controls",
            "_model_module_version": "1.5.0",
            "_model_name": "HTMLModel",
            "_view_count": null,
            "_view_module": "@jupyter-widgets/controls",
            "_view_module_version": "1.5.0",
            "_view_name": "HTMLView",
            "description": "",
            "description_tooltip": null,
            "layout": "IPY_MODEL_89cb08e2ade94ce9b24ca35bbdc9392e",
            "placeholder": "​",
            "style": "IPY_MODEL_1a1f275d8a974a6188994b9dde4f569a",
            "value": " 50/50 [02:00&lt;00:00,  2.40s/it]"
          }
        },
        "cc1041c970ed417e8829effe7659428d": {
          "model_module": "@jupyter-widgets/base",
          "model_name": "LayoutModel",
          "model_module_version": "1.2.0",
          "state": {
            "_model_module": "@jupyter-widgets/base",
            "_model_module_version": "1.2.0",
            "_model_name": "LayoutModel",
            "_view_count": null,
            "_view_module": "@jupyter-widgets/base",
            "_view_module_version": "1.2.0",
            "_view_name": "LayoutView",
            "align_content": null,
            "align_items": null,
            "align_self": null,
            "border": null,
            "bottom": null,
            "display": null,
            "flex": null,
            "flex_flow": null,
            "grid_area": null,
            "grid_auto_columns": null,
            "grid_auto_flow": null,
            "grid_auto_rows": null,
            "grid_column": null,
            "grid_gap": null,
            "grid_row": null,
            "grid_template_areas": null,
            "grid_template_columns": null,
            "grid_template_rows": null,
            "height": null,
            "justify_content": null,
            "justify_items": null,
            "left": null,
            "margin": null,
            "max_height": null,
            "max_width": null,
            "min_height": null,
            "min_width": null,
            "object_fit": null,
            "object_position": null,
            "order": null,
            "overflow": null,
            "overflow_x": null,
            "overflow_y": null,
            "padding": null,
            "right": null,
            "top": null,
            "visibility": null,
            "width": null
          }
        },
        "10901207725c469784c5e77ef297682b": {
          "model_module": "@jupyter-widgets/base",
          "model_name": "LayoutModel",
          "model_module_version": "1.2.0",
          "state": {
            "_model_module": "@jupyter-widgets/base",
            "_model_module_version": "1.2.0",
            "_model_name": "LayoutModel",
            "_view_count": null,
            "_view_module": "@jupyter-widgets/base",
            "_view_module_version": "1.2.0",
            "_view_name": "LayoutView",
            "align_content": null,
            "align_items": null,
            "align_self": null,
            "border": null,
            "bottom": null,
            "display": null,
            "flex": null,
            "flex_flow": null,
            "grid_area": null,
            "grid_auto_columns": null,
            "grid_auto_flow": null,
            "grid_auto_rows": null,
            "grid_column": null,
            "grid_gap": null,
            "grid_row": null,
            "grid_template_areas": null,
            "grid_template_columns": null,
            "grid_template_rows": null,
            "height": null,
            "justify_content": null,
            "justify_items": null,
            "left": null,
            "margin": null,
            "max_height": null,
            "max_width": null,
            "min_height": null,
            "min_width": null,
            "object_fit": null,
            "object_position": null,
            "order": null,
            "overflow": null,
            "overflow_x": null,
            "overflow_y": null,
            "padding": null,
            "right": null,
            "top": null,
            "visibility": null,
            "width": null
          }
        },
        "36ba61b021f446c8b9de866881ee52ad": {
          "model_module": "@jupyter-widgets/controls",
          "model_name": "DescriptionStyleModel",
          "model_module_version": "1.5.0",
          "state": {
            "_model_module": "@jupyter-widgets/controls",
            "_model_module_version": "1.5.0",
            "_model_name": "DescriptionStyleModel",
            "_view_count": null,
            "_view_module": "@jupyter-widgets/base",
            "_view_module_version": "1.2.0",
            "_view_name": "StyleView",
            "description_width": ""
          }
        },
        "2bc0fbd18bc643e39e39c20f1bd8a9d0": {
          "model_module": "@jupyter-widgets/base",
          "model_name": "LayoutModel",
          "model_module_version": "1.2.0",
          "state": {
            "_model_module": "@jupyter-widgets/base",
            "_model_module_version": "1.2.0",
            "_model_name": "LayoutModel",
            "_view_count": null,
            "_view_module": "@jupyter-widgets/base",
            "_view_module_version": "1.2.0",
            "_view_name": "LayoutView",
            "align_content": null,
            "align_items": null,
            "align_self": null,
            "border": null,
            "bottom": null,
            "display": null,
            "flex": null,
            "flex_flow": null,
            "grid_area": null,
            "grid_auto_columns": null,
            "grid_auto_flow": null,
            "grid_auto_rows": null,
            "grid_column": null,
            "grid_gap": null,
            "grid_row": null,
            "grid_template_areas": null,
            "grid_template_columns": null,
            "grid_template_rows": null,
            "height": null,
            "justify_content": null,
            "justify_items": null,
            "left": null,
            "margin": null,
            "max_height": null,
            "max_width": null,
            "min_height": null,
            "min_width": null,
            "object_fit": null,
            "object_position": null,
            "order": null,
            "overflow": null,
            "overflow_x": null,
            "overflow_y": null,
            "padding": null,
            "right": null,
            "top": null,
            "visibility": null,
            "width": null
          }
        },
        "5f9f59bc49894707a4cb432553ee411a": {
          "model_module": "@jupyter-widgets/controls",
          "model_name": "ProgressStyleModel",
          "model_module_version": "1.5.0",
          "state": {
            "_model_module": "@jupyter-widgets/controls",
            "_model_module_version": "1.5.0",
            "_model_name": "ProgressStyleModel",
            "_view_count": null,
            "_view_module": "@jupyter-widgets/base",
            "_view_module_version": "1.2.0",
            "_view_name": "StyleView",
            "bar_color": null,
            "description_width": ""
          }
        },
        "89cb08e2ade94ce9b24ca35bbdc9392e": {
          "model_module": "@jupyter-widgets/base",
          "model_name": "LayoutModel",
          "model_module_version": "1.2.0",
          "state": {
            "_model_module": "@jupyter-widgets/base",
            "_model_module_version": "1.2.0",
            "_model_name": "LayoutModel",
            "_view_count": null,
            "_view_module": "@jupyter-widgets/base",
            "_view_module_version": "1.2.0",
            "_view_name": "LayoutView",
            "align_content": null,
            "align_items": null,
            "align_self": null,
            "border": null,
            "bottom": null,
            "display": null,
            "flex": null,
            "flex_flow": null,
            "grid_area": null,
            "grid_auto_columns": null,
            "grid_auto_flow": null,
            "grid_auto_rows": null,
            "grid_column": null,
            "grid_gap": null,
            "grid_row": null,
            "grid_template_areas": null,
            "grid_template_columns": null,
            "grid_template_rows": null,
            "height": null,
            "justify_content": null,
            "justify_items": null,
            "left": null,
            "margin": null,
            "max_height": null,
            "max_width": null,
            "min_height": null,
            "min_width": null,
            "object_fit": null,
            "object_position": null,
            "order": null,
            "overflow": null,
            "overflow_x": null,
            "overflow_y": null,
            "padding": null,
            "right": null,
            "top": null,
            "visibility": null,
            "width": null
          }
        },
        "1a1f275d8a974a6188994b9dde4f569a": {
          "model_module": "@jupyter-widgets/controls",
          "model_name": "DescriptionStyleModel",
          "model_module_version": "1.5.0",
          "state": {
            "_model_module": "@jupyter-widgets/controls",
            "_model_module_version": "1.5.0",
            "_model_name": "DescriptionStyleModel",
            "_view_count": null,
            "_view_module": "@jupyter-widgets/base",
            "_view_module_version": "1.2.0",
            "_view_name": "StyleView",
            "description_width": ""
          }
        }
      }
    }
  },
  "nbformat": 4,
  "nbformat_minor": 0
}